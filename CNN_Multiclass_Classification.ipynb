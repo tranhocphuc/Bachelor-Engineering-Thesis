{
 "cells": [
  {
   "cell_type": "code",
   "execution_count": null,
   "metadata": {
    "colab": {
     "base_uri": "https://localhost:8080/",
     "height": 51
    },
    "executionInfo": {
     "elapsed": 16694,
     "status": "ok",
     "timestamp": 1603231304517,
     "user": {
      "displayName": "Phuc Tran Hoc",
      "photoUrl": "https://lh3.googleusercontent.com/a-/AOh14Gga3JraUmYmenJue_tGhrYU9zwUg3lPC8A-4OxS=s64",
      "userId": "06605604600625108548"
     },
     "user_tz": -120
    },
    "id": "R2HkuGBCDZLb",
    "outputId": "3fdb6cf5-614a-44d2-fd8a-a4faaec52cd0"
   },
   "outputs": [],
   "source": [
    "from google.colab import drive\n",
    "drive.mount('/gdrive')\n",
    "%cd /gdrive/My Drive/Thesis_code"
   ]
  },
  {
   "cell_type": "code",
   "execution_count": null,
   "metadata": {
    "executionInfo": {
     "elapsed": 20202,
     "status": "ok",
     "timestamp": 1603231308031,
     "user": {
      "displayName": "Phuc Tran Hoc",
      "photoUrl": "https://lh3.googleusercontent.com/a-/AOh14Gga3JraUmYmenJue_tGhrYU9zwUg3lPC8A-4OxS=s64",
      "userId": "06605604600625108548"
     },
     "user_tz": -120
    },
    "id": "XxqMOIwkDpwi"
   },
   "outputs": [],
   "source": [
    "import tensorflow as tf\n",
    "from sklearn.model_selection import train_test_split\n",
    "import numpy as np \n",
    "import pandas as pd \n",
    "import matplotlib.pyplot as plt\n",
    "from sklearn import preprocessing \n",
    "from sklearn.metrics import classification_report\n",
    "from sklearn.metrics import accuracy_score, confusion_matrix\n",
    "from sklearn.metrics import precision_score, recall_score, f1_score\n",
    "from utils import file_helper, feature_extraction"
   ]
  },
  {
   "cell_type": "markdown",
   "metadata": {
    "id": "BNhvtvbOYia1"
   },
   "source": [
    "# Data Pipeline"
   ]
  },
  {
   "cell_type": "code",
   "execution_count": null,
   "metadata": {
    "id": "bllFAP4CYpxk"
   },
   "outputs": [],
   "source": [
    "train_X = np.load('Dataset/split_data/Multi-Class Split/X_train.npy')\n",
    "train_y = np.load('Dataset/split_data/Multi-Class Split/y_train.npy')\n",
    "val_X = np.load('Dataset/split_data/Multi-Class Split/X_val.npy')\n",
    "val_y = np.load('Dataset/split_data/Multi-Class Split/y_val.npy')\n",
    "test_X = np.load('Dataset/split_data/Multi-Class Split/X_test.npy')\n",
    "test_y = np.load('Dataset/split_data/Multi-Class Split/y_test.npy')\n",
    "\n",
    "# Note: \n",
    "# Class     Label     One-hot Encoding\n",
    "# HUMAN       0     [1, 0, 0, 0 ,0]\n",
    "# BICYCLE     1     [0, 1, 0, 0, 0]\n",
    "# PILLAR      2     [0, 0, 1, 0, 0]\n",
    "# WALL        3     [0, 0, 0, 1, 0]\n",
    "# CAR         4     [0, 0, 0, 0, 1]"
   ]
  },
  {
   "cell_type": "code",
   "execution_count": null,
   "metadata": {
    "id": "jYgf0gGWZPpe"
   },
   "outputs": [],
   "source": [
    "BATCH_SIZE = 64\n",
    "SHUFFLE_BUFFER_SIZE = 100\n",
    "\n",
    "train_dataset = tf.data.Dataset.from_tensor_slices((train_X, train_y)).shuffle(SHUFFLE_BUFFER_SIZE).batch(BATCH_SIZE)\n",
    "val_dataset = tf.data.Dataset.from_tensor_slices((val_X, val_y)).shuffle(SHUFFLE_BUFFER_SIZE).batch(BATCH_SIZE)\n",
    "test_dataset = tf.data.Dataset.from_tensor_slices((test_X, test_y)).batch(BATCH_SIZE)\n"
   ]
  },
  {
   "cell_type": "markdown",
   "metadata": {
    "id": "7LvVjeW8rs0m"
   },
   "source": [
    "# CNN Model: "
   ]
  },
  {
   "cell_type": "markdown",
   "metadata": {
    "id": "6MHrdZyZrvpx"
   },
   "source": [
    "## Build process: "
   ]
  },
  {
   "cell_type": "code",
   "execution_count": null,
   "metadata": {
    "id": "EJ7MAHJSrJ-5"
   },
   "outputs": [],
   "source": [
    "tf.keras.backend.clear_session()\n",
    "METRICS = [ \n",
    "      tf.keras.metrics.CategoricalAccuracy(name='categorical_accuracy'),\n",
    "      tf.keras.metrics.Precision(name='precision'),\n",
    "      tf.keras.metrics.Recall(name='recall'),\n",
    "      tf.keras.metrics.AUC(name='auc'),\n",
    "\n",
    "]\n",
    "model = tf.keras.models.Sequential([\n",
    "    #1st\n",
    "    tf.keras.layers.Conv1D(54,kernel_size = 5, input_shape = (1,5704), padding = 'same'),\n",
    "    tf.keras.layers.BatchNormalization(),\n",
    "    tf.keras.layers.Activation('relu'),\n",
    "    tf.keras.layers.Dropout(0.1),\n",
    "    #2nd\n",
    "    tf.keras.layers.Conv1D(128,5, padding = 'same'),\n",
    "    tf.keras.layers.BatchNormalization(),\n",
    "    tf.keras.layers.Activation('relu'),\n",
    "    tf.keras.layers.Dropout(0.1),\n",
    "    #3rd\n",
    "    tf.keras.layers.Conv1D(256,5, padding = 'same'),\n",
    "    tf.keras.layers.BatchNormalization(),\n",
    "    tf.keras.layers.Activation('relu'),\n",
    "    tf.keras.layers.Dropout(0.1),\n",
    "\n",
    "    tf.keras.layers.Flatten(),\n",
    "    tf.keras.layers.Dense(512,activation= 'relu'), \n",
    "    tf.keras.layers.Dense(5, activation = 'softmax') \n",
    "])\n",
    "\n"
   ]
  },
  {
   "cell_type": "markdown",
   "metadata": {},
   "source": [
    "# Optimizer"
   ]
  },
  {
   "cell_type": "code",
   "execution_count": null,
   "metadata": {
    "id": "2W8Bu7d8sO_t"
   },
   "outputs": [],
   "source": [
    "from tensorflow.keras.optimizers import RMSprop, Adam\n",
    "\n",
    "optimizer_R = tf.keras.optimizers.RMSprop(learning_rate = 1e-2,momentum=0.9)\n",
    "optimizer_A = tf.keras.optimizers.Adam(learning_rate = 1e-2)\n",
    "\n",
    "model.compile(optimizer = optimizer_A , loss = tf.keras.losses.CategoricalCrossentropy(), metrics =[METRICS])\n"
   ]
  },
  {
   "cell_type": "code",
   "execution_count": null,
   "metadata": {
    "colab": {
     "base_uri": "https://localhost:8080/",
     "height": 663
    },
    "executionInfo": {
     "elapsed": 875,
     "status": "ok",
     "timestamp": 1603191792448,
     "user": {
      "displayName": "Phuc Tran Hoc",
      "photoUrl": "https://lh3.googleusercontent.com/a-/AOh14Gga3JraUmYmenJue_tGhrYU9zwUg3lPC8A-4OxS=s64",
      "userId": "06605604600625108548"
     },
     "user_tz": -120
    },
    "id": "uLz3HbKesSJ-",
    "outputId": "20955144-75a1-4d3d-dacd-f603920acb64"
   },
   "outputs": [],
   "source": [
    "model.summary()"
   ]
  },
  {
   "cell_type": "markdown",
   "metadata": {
    "id": "GrVb5VO1saE6"
   },
   "source": [
    "## Callbacks:"
   ]
  },
  {
   "cell_type": "code",
   "execution_count": null,
   "metadata": {
    "colab": {
     "base_uri": "https://localhost:8080/",
     "height": 34
    },
    "executionInfo": {
     "elapsed": 678,
     "status": "ok",
     "timestamp": 1603191794573,
     "user": {
      "displayName": "Phuc Tran Hoc",
      "photoUrl": "https://lh3.googleusercontent.com/a-/AOh14Gga3JraUmYmenJue_tGhrYU9zwUg3lPC8A-4OxS=s64",
      "userId": "06605604600625108548"
     },
     "user_tz": -120
    },
    "id": "w12cEcwasU3d",
    "outputId": "82425cb3-b7c1-4149-fbe9-b0e2929481d3"
   },
   "outputs": [],
   "source": [
    "import os \n",
    "from tensorflow.keras.callbacks import EarlyStopping\n",
    "\n",
    "#Early stop to avoid overfitting\n",
    "early_stop = EarlyStopping(patience = 5, verbose = 1)\n",
    "\n",
    "#Provides unique names for checkpoints and adjust the checkpointing frequency\n",
    "checkpoint_path = \"CNN_Multi_CNNonly_1/cp-{epoch:04d}.ckpt\"\n",
    "checkpoint_dir = os.path.dirname(checkpoint_path)\n",
    "\n",
    "#Create a call back that save the model's weights\n",
    "cp_callback = tf.keras.callbacks.ModelCheckpoint(filepath = checkpoint_path,\n",
    "                                                 save_weights_only = True,\n",
    "                                                 verbose = 1,\n",
    "                                                 period = 10)\n",
    "\n",
    "reduce_lr = tf.keras.callbacks.ReduceLROnPlateau(monitor='val_loss', factor=0.1, patience=10, verbose= 1, min_lr=1e-9)"
   ]
  },
  {
   "cell_type": "markdown",
   "metadata": {
    "id": "ivmZdoJy20Aw"
   },
   "source": [
    "# Train the Model"
   ]
  },
  {
   "cell_type": "code",
   "execution_count": null,
   "metadata": {
    "colab": {
     "base_uri": "https://localhost:8080/",
     "height": 1000
    },
    "executionInfo": {
     "elapsed": 2327994,
     "status": "ok",
     "timestamp": 1603194123983,
     "user": {
      "displayName": "Phuc Tran Hoc",
      "photoUrl": "https://lh3.googleusercontent.com/a-/AOh14Gga3JraUmYmenJue_tGhrYU9zwUg3lPC8A-4OxS=s64",
      "userId": "06605604600625108548"
     },
     "user_tz": -120
    },
    "id": "J-qfyO1bsdv9",
    "outputId": "81027bbe-3ff0-45fa-9cdb-2a4fe1622f08"
   },
   "outputs": [],
   "source": [
    "model_train = model.fit(train_dataset,\n",
    "                        epochs = 100,\n",
    "                        validation_data = val_dataset, \n",
    "                        callbacks = [reduce_lr, cp_callback]\n",
    "                        )#callbacks = [cp_callback, reduce_lr]"
   ]
  },
  {
   "cell_type": "code",
   "execution_count": null,
   "metadata": {
    "id": "qsWXgNmRoqw2"
   },
   "outputs": [],
   "source": [
    "model.save(\"CNN_Multiclass.h5\")"
   ]
  },
  {
   "cell_type": "markdown",
   "metadata": {
    "id": "m4XJqfMEbMJD"
   },
   "source": [
    "# Plot Accuracy vs Loss"
   ]
  },
  {
   "cell_type": "code",
   "execution_count": null,
   "metadata": {
    "colab": {
     "base_uri": "https://localhost:8080/",
     "height": 446
    },
    "executionInfo": {
     "elapsed": 2326253,
     "status": "ok",
     "timestamp": 1603194124331,
     "user": {
      "displayName": "Phuc Tran Hoc",
      "photoUrl": "https://lh3.googleusercontent.com/a-/AOh14Gga3JraUmYmenJue_tGhrYU9zwUg3lPC8A-4OxS=s64",
      "userId": "06605604600625108548"
     },
     "user_tz": -120
    },
    "id": "NJ66b4-oxmLe",
    "outputId": "10293cf4-a4e8-4f17-b838-0e9de39aa4a5"
   },
   "outputs": [],
   "source": [
    "plt.figure(figsize =(20,7))\n",
    "\n",
    "plt.subplot(1,2,1)\n",
    "plt.plot(model_train.epoch, model_train.history[\"loss\"], label=\"Train\")\n",
    "plt.plot(model_train.epoch, model_train.history[\"val_loss\"], label=\"Valid\")\n",
    "plt.xlabel(\"Epoch\")\n",
    "plt.ylabel(\"Loss\")\n",
    "plt.legend()\n",
    "\n",
    "plt.subplot(1,2,2)\n",
    "plt.plot(model_train.epoch, model_train.history[\"categorical_accuracy\"], label=\"Train\")\n",
    "plt.plot(model_train.epoch, model_train.history[\"val_categorical_accuracy\"], label=\"Valid\")\n",
    "plt.ylim([0,1.0])\n",
    "plt.xlabel(\"Epoch\")\n",
    "plt.ylabel(\"Accuracy\")\n",
    "plt.legend()\n",
    "plt.show()"
   ]
  },
  {
   "cell_type": "markdown",
   "metadata": {
    "id": "LheLnUN1bPxj"
   },
   "source": [
    "# Test and evaluate the model"
   ]
  },
  {
   "cell_type": "code",
   "execution_count": null,
   "metadata": {
    "colab": {
     "base_uri": "https://localhost:8080/",
     "height": 119
    },
    "executionInfo": {
     "elapsed": 2314217,
     "status": "ok",
     "timestamp": 1603194126321,
     "user": {
      "displayName": "Phuc Tran Hoc",
      "photoUrl": "https://lh3.googleusercontent.com/a-/AOh14Gga3JraUmYmenJue_tGhrYU9zwUg3lPC8A-4OxS=s64",
      "userId": "06605604600625108548"
     },
     "user_tz": -120
    },
    "id": "WA508iM7Bj-Z",
    "outputId": "b3175c99-cd9a-4fa3-d949-8a757d12b542"
   },
   "outputs": [],
   "source": [
    "test_eval = model.predict(test_X, batch_size = 64)\n",
    "model.evaluate(test_dataset, batch_size= 64, verbose = 1)"
   ]
  },
  {
   "cell_type": "markdown",
   "metadata": {
    "id": "QRsGINC5bT5G"
   },
   "source": [
    "# Plot classification report"
   ]
  },
  {
   "cell_type": "code",
   "execution_count": null,
   "metadata": {
    "colab": {
     "base_uri": "https://localhost:8080/",
     "height": 221
    },
    "executionInfo": {
     "elapsed": 2313231,
     "status": "ok",
     "timestamp": 1603194126322,
     "user": {
      "displayName": "Phuc Tran Hoc",
      "photoUrl": "https://lh3.googleusercontent.com/a-/AOh14Gga3JraUmYmenJue_tGhrYU9zwUg3lPC8A-4OxS=s64",
      "userId": "06605604600625108548"
     },
     "user_tz": -120
    },
    "id": "Qv4Qz1nBjDmY",
    "outputId": "bcd7dbac-6910-4a1c-cd19-60ec2646c5ac"
   },
   "outputs": [],
   "source": [
    "from sklearn.metrics import classification_report\n",
    "pred = np.round(test_eval, 0)\n",
    "label = [\"HUMAN\",\"BICYCLE\",\"PILLAR\", \"WALL\",\"CAR\"]\n",
    "target = [\"Class {}\".format(i) for i in range(5)]\n",
    "classification_metrics = classification_report(test_y.argmax(1) ,pred.argmax(1), target_names = label)\n",
    "print(classification_metrics)\n"
   ]
  },
  {
   "cell_type": "code",
   "execution_count": null,
   "metadata": {
    "colab": {
     "base_uri": "https://localhost:8080/",
     "height": 861
    },
    "executionInfo": {
     "elapsed": 2311471,
     "status": "ok",
     "timestamp": 1603194127097,
     "user": {
      "displayName": "Phuc Tran Hoc",
      "photoUrl": "https://lh3.googleusercontent.com/a-/AOh14Gga3JraUmYmenJue_tGhrYU9zwUg3lPC8A-4OxS=s64",
      "userId": "06605604600625108548"
     },
     "user_tz": -120
    },
    "id": "6tAiZ7BtcIS8",
    "outputId": "8970747b-6a51-4fce-cec0-a3d552925fbd"
   },
   "outputs": [],
   "source": [
    "from utils.confusion_matrix_pretty_print import plot_confusion_matrix_from_data\n",
    "\n",
    "columns = [\"HUMAN\",\"BICYCLE\",\"PILLAR\",\"WALL\",\"CAR\"]\n",
    "annot = True\n",
    "cmap = 'Oranges'\n",
    "fmt = '.2f'\n",
    "lw = 0.5\n",
    "cbar = False\n",
    "show_null_values = 2\n",
    "pred_val_axis = 'y'\n",
    "#size::\n",
    "fz = 12\n",
    "figsize = [9,9]\n",
    "if(len(test_y) > 10):\n",
    "  fz=9; figsize=[14,14]\n",
    "plot_confusion_matrix_from_data(test_y.argmax(axis=1), pred.argmax(axis=1), columns,annot, cmap, fmt, fz, lw, cbar, figsize, show_null_values, pred_val_axis)"
   ]
  },
  {
   "cell_type": "code",
   "execution_count": null,
   "metadata": {
    "id": "ii1zRKDYOtXf"
   },
   "outputs": [],
   "source": []
  }
 ],
 "metadata": {
  "accelerator": "GPU",
  "colab": {
   "collapsed_sections": [
    "6vrrielpGs7a"
   ],
   "name": "CNN_Multiclass_Classification.ipynb",
   "provenance": [],
   "toc_visible": true
  },
  "kernelspec": {
   "display_name": "Python 3",
   "language": "python",
   "name": "python3"
  },
  "language_info": {
   "codemirror_mode": {
    "name": "ipython",
    "version": 3
   },
   "file_extension": ".py",
   "mimetype": "text/x-python",
   "name": "python",
   "nbconvert_exporter": "python",
   "pygments_lexer": "ipython3",
   "version": "3.6.11"
  }
 },
 "nbformat": 4,
 "nbformat_minor": 1
}
