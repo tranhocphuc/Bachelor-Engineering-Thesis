{
 "cells": [
  {
   "cell_type": "markdown",
   "metadata": {
    "id": "9LM8SK9ETG05"
   },
   "source": [
    "# Initialization"
   ]
  },
  {
   "cell_type": "code",
   "execution_count": null,
   "metadata": {
    "colab": {
     "base_uri": "https://localhost:8080/",
     "height": 34
    },
    "executionInfo": {
     "elapsed": 859,
     "status": "ok",
     "timestamp": 1603231471561,
     "user": {
      "displayName": "Christian Richardson Escobia",
      "photoUrl": "https://lh3.googleusercontent.com/a-/AOh14GjdPT7lC12Lnkl07FaCCF-69aiWOLTRNP49Dmh7=s64",
      "userId": "09982762860506727889"
     },
     "user_tz": -120
    },
    "id": "l_ZAWdjsXv0y",
    "outputId": "7aadaa78-0983-40a3-805a-666324c1800e"
   },
   "outputs": [],
   "source": [
    "from google.colab import drive\n",
    "drive.mount('/gdrive')"
   ]
  },
  {
   "cell_type": "code",
   "execution_count": null,
   "metadata": {
    "colab": {
     "base_uri": "https://localhost:8080/",
     "height": 34
    },
    "executionInfo": {
     "elapsed": 690,
     "status": "ok",
     "timestamp": 1603231472266,
     "user": {
      "displayName": "Christian Richardson Escobia",
      "photoUrl": "https://lh3.googleusercontent.com/a-/AOh14GjdPT7lC12Lnkl07FaCCF-69aiWOLTRNP49Dmh7=s64",
      "userId": "09982762860506727889"
     },
     "user_tz": -120
    },
    "id": "5tduvBFXX9V0",
    "outputId": "43932c68-576b-4e3f-c9b2-b8450d09df8d"
   },
   "outputs": [],
   "source": [
    "%cd /gdrive/My Drive/phuc_code_file"
   ]
  },
  {
   "cell_type": "markdown",
   "metadata": {
    "id": "DHAAkMxyXs2I"
   },
   "source": [
    "# Libraries Import"
   ]
  },
  {
   "cell_type": "code",
   "execution_count": null,
   "metadata": {
    "executionInfo": {
     "elapsed": 8077,
     "status": "ok",
     "timestamp": 1603231480856,
     "user": {
      "displayName": "Christian Richardson Escobia",
      "photoUrl": "https://lh3.googleusercontent.com/a-/AOh14GjdPT7lC12Lnkl07FaCCF-69aiWOLTRNP49Dmh7=s64",
      "userId": "09982762860506727889"
     },
     "user_tz": -120
    },
    "id": "xYBzuh37Xs2K"
   },
   "outputs": [],
   "source": [
    "import tensorflow as tf\n",
    "from sklearn.model_selection import train_test_split\n",
    "import numpy as np \n",
    "import pandas as pd \n",
    "from google.colab import widgets\n",
    "import matplotlib.pyplot as plt\n",
    "from sklearn import preprocessing \n",
    "from sklearn.metrics import classification_report\n",
    "from sklearn.metrics import accuracy_score, confusion_matrix\n",
    "from sklearn.metrics import precision_score, recall_score, f1_score\n",
    "from utils import file_helper, feature_extraction"
   ]
  },
  {
   "cell_type": "markdown",
   "metadata": {
    "id": "35brF_EAKdmC"
   },
   "source": [
    "#  Data Pipeline"
   ]
  },
  {
   "cell_type": "code",
   "execution_count": null,
   "metadata": {
    "executionInfo": {
     "elapsed": 130167,
     "status": "ok",
     "timestamp": 1603231605804,
     "user": {
      "displayName": "Christian Richardson Escobia",
      "photoUrl": "https://lh3.googleusercontent.com/a-/AOh14GjdPT7lC12Lnkl07FaCCF-69aiWOLTRNP49Dmh7=s64",
      "userId": "09982762860506727889"
     },
     "user_tz": -120
    },
    "id": "2GKI1lQgKh9p"
   },
   "outputs": [],
   "source": [
    "train_X = np.load('Dataset/split_data/Binary Split/X_train.npy')\n",
    "train_y = np.load('Dataset/split_data/Binary Split/y_train.npy')\n",
    "val_X = np.load('Dataset/split_data/Binary Split/X_val.npy')\n",
    "val_y = np.load('Dataset/split_data/Binary Split/y_val.npy')\n",
    "test_X = np.load('Dataset/split_data/Binary Split/X_test.npy')\n",
    "test_y = np.load('Dataset/split_data/Binary Split/y_test.npy')\n",
    "\n",
    "#Note:\n",
    "#class       label_encoded\n",
    "# Human:          1\n",
    "# Non_human:      0 "
   ]
  },
  {
   "cell_type": "code",
   "execution_count": null,
   "metadata": {
    "executionInfo": {
     "elapsed": 131667,
     "status": "ok",
     "timestamp": 1603231608211,
     "user": {
      "displayName": "Christian Richardson Escobia",
      "photoUrl": "https://lh3.googleusercontent.com/a-/AOh14GjdPT7lC12Lnkl07FaCCF-69aiWOLTRNP49Dmh7=s64",
      "userId": "09982762860506727889"
     },
     "user_tz": -120
    },
    "id": "jxGv2cQhM-Ad"
   },
   "outputs": [],
   "source": [
    "BATCH_SIZE = 64\n",
    "SHUFFLE_BUFFER_SIZE = 100\n",
    "\n",
    "train_dataset = tf.data.Dataset.from_tensor_slices((train_X, train_y)).shuffle(SHUFFLE_BUFFER_SIZE).batch(BATCH_SIZE)\n",
    "val_dataset = tf.data.Dataset.from_tensor_slices((val_X, val_y)).shuffle(SHUFFLE_BUFFER_SIZE).batch(BATCH_SIZE)\n",
    "test_dataset = tf.data.Dataset.from_tensor_slices((test_X, test_y)).batch(BATCH_SIZE)\n"
   ]
  },
  {
   "cell_type": "markdown",
   "metadata": {
    "id": "r1lDePLpCS0g"
   },
   "source": [
    "# Data Pipeline for OHE"
   ]
  },
  {
   "cell_type": "code",
   "execution_count": null,
   "metadata": {
    "executionInfo": {
     "elapsed": 120988,
     "status": "ok",
     "timestamp": 1603231281870,
     "user": {
      "displayName": "Christian Richardson Escobia",
      "photoUrl": "https://lh3.googleusercontent.com/a-/AOh14GjdPT7lC12Lnkl07FaCCF-69aiWOLTRNP49Dmh7=s64",
      "userId": "09982762860506727889"
     },
     "user_tz": -120
    },
    "id": "qGJZtxW8CVsz"
   },
   "outputs": [],
   "source": [
    "train_X = np.load('Dataset/split_data/Binary_Split_OHE/X_train.npy')\n",
    "train_y = np.load('Dataset/split_data/Binary_Split_OHE/y_train.npy')\n",
    "val_X = np.load('Dataset/split_data/Binary_Split_OHE/X_val.npy')\n",
    "val_y = np.load('Dataset/split_data/Binary_Split_OHE/y_val.npy')\n",
    "test_X = np.load('Dataset/split_data/Binary_Split_OHE/X_test.npy')\n",
    "test_y = np.load('Dataset/split_data/Binary_Split_OHE/y_test.npy')\n",
    "\n",
    "#Note:\n",
    "#class       label_encoded\n",
    "# Human:        0  [1,0]\n",
    "# Non_human:    1  [0,1] "
   ]
  },
  {
   "cell_type": "code",
   "execution_count": null,
   "metadata": {
    "executionInfo": {
     "elapsed": 125742,
     "status": "ok",
     "timestamp": 1603231287455,
     "user": {
      "displayName": "Christian Richardson Escobia",
      "photoUrl": "https://lh3.googleusercontent.com/a-/AOh14GjdPT7lC12Lnkl07FaCCF-69aiWOLTRNP49Dmh7=s64",
      "userId": "09982762860506727889"
     },
     "user_tz": -120
    },
    "id": "lnzX3bgtCYU-"
   },
   "outputs": [],
   "source": [
    "BATCH_SIZE = 64\n",
    "SHUFFLE_BUFFER_SIZE = 100\n",
    "\n",
    "train_dataset = tf.data.Dataset.from_tensor_slices((train_X, train_y)).shuffle(SHUFFLE_BUFFER_SIZE).batch(BATCH_SIZE)\n",
    "val_dataset = tf.data.Dataset.from_tensor_slices((val_X, val_y)).shuffle(SHUFFLE_BUFFER_SIZE).batch(BATCH_SIZE)\n",
    "test_dataset = tf.data.Dataset.from_tensor_slices((test_X, test_y)).batch(BATCH_SIZE)\n"
   ]
  },
  {
   "cell_type": "markdown",
   "metadata": {
    "id": "_0f7JmVmXs4P"
   },
   "source": [
    "# Build CNN Model: "
   ]
  },
  {
   "cell_type": "code",
   "execution_count": null,
   "metadata": {
    "executionInfo": {
     "elapsed": 128708,
     "status": "ok",
     "timestamp": 1603231608213,
     "user": {
      "displayName": "Christian Richardson Escobia",
      "photoUrl": "https://lh3.googleusercontent.com/a-/AOh14GjdPT7lC12Lnkl07FaCCF-69aiWOLTRNP49Dmh7=s64",
      "userId": "09982762860506727889"
     },
     "user_tz": -120
    },
    "id": "n837E8brXs4P"
   },
   "outputs": [],
   "source": [
    "tf.keras.backend.clear_session()\n",
    "METRICS = [\n",
    "      tf.keras.metrics.BinaryAccuracy(name='accuracy'),\n",
    "      tf.keras.metrics.Precision(name='precision'),\n",
    "      tf.keras.metrics.Recall(name='recall'),\n",
    "      tf.keras.metrics.AUC(name='auc'),\n",
    "\n",
    "]\n",
    "\n",
    "model = tf.keras.models.Sequential([\n",
    "    #1st\n",
    "    tf.keras.layers.Conv1D(32,kernel_size=3,input_shape = (1,5704), padding = 'same'), \n",
    "    tf.keras.layers.Activation('relu'),\n",
    "    tf.keras.layers.BatchNormalization(),\n",
    "    tf.keras.layers.Dropout(0.2),\n",
    "    #2nd\n",
    "    tf.keras.layers.Conv1D(64,3, padding = 'same'), \n",
    "    tf.keras.layers.Activation('relu'), \n",
    "    tf.keras.layers.BatchNormalization(),\n",
    "    tf.keras.layers.Dropout(0.2),\n",
    "\n",
    "    tf.keras.layers.Flatten(),\n",
    "    tf.keras.layers.Dense(128,activation = 'relu'),\n",
    "    tf.keras.layers.Dropout(0.4),\n",
    "    tf.keras.layers.Dense(1, activation = 'sigmoid') #For binary \n",
    "    # tf.keras.layers.Dense(2, activation = 'softmax') #For binary OHE \n",
    "])\n",
    "\n",
    "\n"
   ]
  },
  {
   "cell_type": "markdown",
   "metadata": {},
   "source": [
    "## Optimizer"
   ]
  },
  {
   "cell_type": "code",
   "execution_count": null,
   "metadata": {
    "executionInfo": {
     "elapsed": 126450,
     "status": "ok",
     "timestamp": 1603231608214,
     "user": {
      "displayName": "Christian Richardson Escobia",
      "photoUrl": "https://lh3.googleusercontent.com/a-/AOh14GjdPT7lC12Lnkl07FaCCF-69aiWOLTRNP49Dmh7=s64",
      "userId": "09982762860506727889"
     },
     "user_tz": -120
    },
    "id": "zxAYhk7RjXzb"
   },
   "outputs": [],
   "source": [
    "from tensorflow.keras.optimizers import RMSprop,Adam\n",
    "optimizer = tf.keras.optimizers.SGD(lr = 1e-7,momentum = 0.9)\n",
    "model.compile(optimizer = RMSprop(learning_rate = 1e-2), loss = tf.keras.losses.binary_crossentropy, metrics =METRICS)\n"
   ]
  },
  {
   "cell_type": "code",
   "execution_count": null,
   "metadata": {
    "colab": {
     "base_uri": "https://localhost:8080/",
     "height": 561
    },
    "executionInfo": {
     "elapsed": 125808,
     "status": "ok",
     "timestamp": 1603231608214,
     "user": {
      "displayName": "Christian Richardson Escobia",
      "photoUrl": "https://lh3.googleusercontent.com/a-/AOh14GjdPT7lC12Lnkl07FaCCF-69aiWOLTRNP49Dmh7=s64",
      "userId": "09982762860506727889"
     },
     "user_tz": -120
    },
    "id": "rigNw6I6j_Ji",
    "outputId": "ef668cc8-4f5c-4bf9-85d3-86b0d8f3917c"
   },
   "outputs": [],
   "source": [
    "model.summary()"
   ]
  },
  {
   "cell_type": "markdown",
   "metadata": {
    "id": "ijoUf9Zc4ioB"
   },
   "source": [
    "## Create Checkpoint and callback usage"
   ]
  },
  {
   "cell_type": "code",
   "execution_count": null,
   "metadata": {
    "colab": {
     "base_uri": "https://localhost:8080/",
     "height": 34
    },
    "executionInfo": {
     "elapsed": 125131,
     "status": "ok",
     "timestamp": 1603231608215,
     "user": {
      "displayName": "Christian Richardson Escobia",
      "photoUrl": "https://lh3.googleusercontent.com/a-/AOh14GjdPT7lC12Lnkl07FaCCF-69aiWOLTRNP49Dmh7=s64",
      "userId": "09982762860506727889"
     },
     "user_tz": -120
    },
    "id": "rP47Qenx4PLn",
    "outputId": "f72e7089-575a-4268-c108-fd4c6edfea58"
   },
   "outputs": [],
   "source": [
    "import os \n",
    "from tensorflow.keras.callbacks import EarlyStopping\n",
    "#Early stop to avoid overfitting\n",
    "early_stop = EarlyStopping(patience = 5, verbose = 1)\n",
    "\n",
    "#Provides unique names for checkpoints and adjust the checkpointing frequency\n",
    "checkpoint_path = \"CNN_Binary_OHE/cp-{epoch:04d}.ckpt\"\n",
    "checkpoint_dir = os.path.dirname(checkpoint_path)\n",
    "\n",
    "#Create a call back that save the model's weights\n",
    "cp_callback = tf.keras.callbacks.ModelCheckpoint(filepath = checkpoint_path,\n",
    "                                                 save_weights_only = True,\n",
    "                                                 verbose = 1,\n",
    "                                                 period = 10)\n",
    "#Reduce learning rate\n",
    "reduce_lr = tf.keras.callbacks.ReduceLROnPlateau(monitor='val_loss', factor=0.1, patience=10,verbose = 1, min_lr=1e-9)\n"
   ]
  },
  {
   "cell_type": "markdown",
   "metadata": {
    "id": "kJSXyLF7jcHB"
   },
   "source": [
    "# Train Model "
   ]
  },
  {
   "cell_type": "code",
   "execution_count": null,
   "metadata": {
    "colab": {
     "base_uri": "https://localhost:8080/",
     "height": 1000
    },
    "executionInfo": {
     "elapsed": 2368595,
     "status": "ok",
     "timestamp": 1603233853654,
     "user": {
      "displayName": "Christian Richardson Escobia",
      "photoUrl": "https://lh3.googleusercontent.com/a-/AOh14GjdPT7lC12Lnkl07FaCCF-69aiWOLTRNP49Dmh7=s64",
      "userId": "09982762860506727889"
     },
     "user_tz": -120
    },
    "id": "YIjSnXMlrFHT",
    "outputId": "c464469f-4c46-444a-fa25-bb09c0424b6d"
   },
   "outputs": [],
   "source": [
    "model_train = model.fit(train_dataset,\n",
    "                        epochs = 100,\n",
    "                        validation_data = val_dataset,\n",
    "                        callbacks = [reduce_lr,cp_callback]\n",
    "                        )#,callbacks = [lr_schedule],callbacks = [early_stop],callbacks = [cp_callback]"
   ]
  },
  {
   "cell_type": "code",
   "execution_count": null,
   "metadata": {
    "executionInfo": {
     "elapsed": 2367346,
     "status": "ok",
     "timestamp": 1603233853658,
     "user": {
      "displayName": "Christian Richardson Escobia",
      "photoUrl": "https://lh3.googleusercontent.com/a-/AOh14GjdPT7lC12Lnkl07FaCCF-69aiWOLTRNP49Dmh7=s64",
      "userId": "09982762860506727889"
     },
     "user_tz": -120
    },
    "id": "yIS1yqdukdHt"
   },
   "outputs": [],
   "source": [
    "model.save(\"CNN_Binary.h5\")"
   ]
  },
  {
   "cell_type": "markdown",
   "metadata": {
    "executionInfo": {
     "elapsed": 2366819,
     "status": "ok",
     "timestamp": 1603233853659,
     "user": {
      "displayName": "Christian Richardson Escobia",
      "photoUrl": "https://lh3.googleusercontent.com/a-/AOh14GjdPT7lC12Lnkl07FaCCF-69aiWOLTRNP49Dmh7=s64",
      "userId": "09982762860506727889"
     },
     "user_tz": -120
    },
    "id": "j4QD8FO_zsq5"
   },
   "source": [
    "# Plot loss vs epoch and accuracy vs epoch charts"
   ]
  },
  {
   "cell_type": "code",
   "execution_count": null,
   "metadata": {
    "colab": {
     "base_uri": "https://localhost:8080/",
     "height": 279
    },
    "executionInfo": {
     "elapsed": 2366838,
     "status": "ok",
     "timestamp": 1603233854328,
     "user": {
      "displayName": "Christian Richardson Escobia",
      "photoUrl": "https://lh3.googleusercontent.com/a-/AOh14GjdPT7lC12Lnkl07FaCCF-69aiWOLTRNP49Dmh7=s64",
      "userId": "09982762860506727889"
     },
     "user_tz": -120
    },
    "id": "QT9qInnR21G1",
    "outputId": "9424f353-6358-444a-c624-188802388655"
   },
   "outputs": [],
   "source": [
    "plt.figure(figsize =(15,4))\n",
    "plt.plot(model_train.epoch, model_train.history[\"loss\"], label=\"Train\")\n",
    "plt.plot(model_train.epoch, model_train.history[\"val_loss\"], label=\"Valid\")\n",
    "plt.xlabel(\"Epoch\")\n",
    "plt.ylabel(\"loss\")\n",
    "plt.legend()\n",
    "plt.show()"
   ]
  },
  {
   "cell_type": "code",
   "execution_count": null,
   "metadata": {
    "colab": {
     "base_uri": "https://localhost:8080/",
     "height": 279
    },
    "executionInfo": {
     "elapsed": 2365473,
     "status": "ok",
     "timestamp": 1603233854330,
     "user": {
      "displayName": "Christian Richardson Escobia",
      "photoUrl": "https://lh3.googleusercontent.com/a-/AOh14GjdPT7lC12Lnkl07FaCCF-69aiWOLTRNP49Dmh7=s64",
      "userId": "09982762860506727889"
     },
     "user_tz": -120
    },
    "id": "-9XkTS18Jik2",
    "outputId": "f49102ab-1f50-4e6d-bdb6-61e77411e6f7"
   },
   "outputs": [],
   "source": [
    "plt.figure(figsize =(15,4))\n",
    "plt.plot(model_train.epoch, model_train.history[\"accuracy\"], label=\"Train\")\n",
    "plt.plot(model_train.epoch, model_train.history[\"val_accuracy\"], label=\"Valid\")\n",
    "plt.xlabel(\"Epoch\")\n",
    "plt.ylabel(\"Accuracy\")\n",
    "plt.legend()\n",
    "plt.show()"
   ]
  },
  {
   "cell_type": "markdown",
   "metadata": {},
   "source": [
    "# Test the model"
   ]
  },
  {
   "cell_type": "code",
   "execution_count": null,
   "metadata": {
    "colab": {
     "base_uri": "https://localhost:8080/",
     "height": 119
    },
    "executionInfo": {
     "elapsed": 2367393,
     "status": "ok",
     "timestamp": 1603233856981,
     "user": {
      "displayName": "Christian Richardson Escobia",
      "photoUrl": "https://lh3.googleusercontent.com/a-/AOh14GjdPT7lC12Lnkl07FaCCF-69aiWOLTRNP49Dmh7=s64",
      "userId": "09982762860506727889"
     },
     "user_tz": -120
    },
    "id": "9K5CqkqyF5jV",
    "outputId": "da82c956-b06f-4e7c-9148-6feed8c6fc17"
   },
   "outputs": [],
   "source": [
    "# train_eval = model.predict(train_X, batch_size = 128)\n",
    "test_eval = model.predict(test_X, batch_size = 64)\n",
    "model.evaluate(test_X, test_y, batch_size= 64, verbose = 1)\n",
    "\n",
    "# 183/183 [==============================] - 1s 6ms/step - loss: 0.1065 - accuracy: 0.9687 - precision: 0.9577 - recall: 0.9658 - auc: 0.9920\n",
    "# [0.10650496929883957,\n",
    "#  0.9686751365661621,\n",
    "#  0.9577171206474304,\n",
    "#  0.965763509273529,\n",
    "#  0.9919524788856506]"
   ]
  },
  {
   "cell_type": "code",
   "execution_count": null,
   "metadata": {
    "colab": {
     "base_uri": "https://localhost:8080/",
     "height": 170
    },
    "executionInfo": {
     "elapsed": 2366684,
     "status": "ok",
     "timestamp": 1603233856983,
     "user": {
      "displayName": "Christian Richardson Escobia",
      "photoUrl": "https://lh3.googleusercontent.com/a-/AOh14GjdPT7lC12Lnkl07FaCCF-69aiWOLTRNP49Dmh7=s64",
      "userId": "09982762860506727889"
     },
     "user_tz": -120
    },
    "id": "Hf-NNEKHTeAw",
    "outputId": "bbf92c4e-039c-497b-86fc-a6f2ecff008a"
   },
   "outputs": [],
   "source": [
    "from sklearn.metrics import classification_report\n",
    "pred = np.round(test_eval, 0)\n",
    "pred[pred >= 0.5] = 1\n",
    "pred[pred < 0.5] = 0\n",
    "label = [\"NON_HUMAN\",\"HUMAN\"] # For binary \n",
    "# label = [\"HUMAN\",\"NON_HUMAN\"] #For binary OHE\n",
    "target = [\"Class {}\".format(i) for i in range(5)]\n",
    "classification_metrics = classification_report(test_y ,pred, target_names = label)#\n",
    "# print(test_label)\n",
    "print(classification_metrics)\n",
    "#               precision    recall  f1-score   support\n",
    "\n",
    "#    NON_HUMAN       0.98      0.97      0.97      6923\n",
    "#        HUMAN       0.96      0.97      0.96      4761\n",
    "\n",
    "#     accuracy                           0.97     11684\n",
    "#    macro avg       0.97      0.97      0.97     11684\n",
    "# weighted avg       0.97      0.97      0.97     11684"
   ]
  },
  {
   "cell_type": "code",
   "execution_count": null,
   "metadata": {
    "colab": {
     "base_uri": "https://localhost:8080/",
     "height": 861
    },
    "executionInfo": {
     "elapsed": 2366752,
     "status": "ok",
     "timestamp": 1603233858860,
     "user": {
      "displayName": "Christian Richardson Escobia",
      "photoUrl": "https://lh3.googleusercontent.com/a-/AOh14GjdPT7lC12Lnkl07FaCCF-69aiWOLTRNP49Dmh7=s64",
      "userId": "09982762860506727889"
     },
     "user_tz": -120
    },
    "id": "Fi4zQREQ0_OD",
    "outputId": "29ec8769-d9af-420d-f8cc-90e615ef16fb",
    "scrolled": true
   },
   "outputs": [],
   "source": [
    "from utils.confusion_matrix_pretty_print import plot_confusion_matrix_from_data\n",
    "\n",
    "columns = [\"NON_HUMAN\",\"HUMAN\"]\n",
    "annot = True\n",
    "cmap = 'Oranges'\n",
    "fmt = '.2f'\n",
    "lw = 0.5\n",
    "cbar = False\n",
    "show_null_values = 2\n",
    "pred_val_axis = 'y'\n",
    "#size::\n",
    "fz = 12\n",
    "figsize = [9,9]\n",
    "if(len(test_y) > 10):\n",
    "  fz=9; figsize=[14,14]\n",
    "plot_confusion_matrix_from_data(test_y, pred, columns,\n",
    "      annot, cmap, fmt, fz, lw, cbar, figsize, show_null_values, pred_val_axis)"
   ]
  }
 ],
 "metadata": {
  "accelerator": "GPU",
  "colab": {
   "collapsed_sections": [
    "80_igPz-Xs2_",
    "mTkDmSmkXs3F",
    "r1lDePLpCS0g"
   ],
   "name": "CNN_binary_classification.ipynb",
   "provenance": [],
   "toc_visible": true
  },
  "kernelspec": {
   "display_name": "Python 3",
   "language": "python",
   "name": "python3"
  },
  "language_info": {
   "codemirror_mode": {
    "name": "ipython",
    "version": 3
   },
   "file_extension": ".py",
   "mimetype": "text/x-python",
   "name": "python",
   "nbconvert_exporter": "python",
   "pygments_lexer": "ipython3",
   "version": "3.6.11"
  }
 },
 "nbformat": 4,
 "nbformat_minor": 1
}
