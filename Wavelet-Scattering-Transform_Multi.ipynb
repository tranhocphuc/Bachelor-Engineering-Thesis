{
 "cells": [
  {
   "cell_type": "code",
   "execution_count": 1,
   "metadata": {
    "colab": {
     "base_uri": "https://localhost:8080/",
     "height": 255
    },
    "executionInfo": {
     "elapsed": 5005,
     "status": "ok",
     "timestamp": 1603198438672,
     "user": {
      "displayName": "Phuc Tran Hoc",
      "photoUrl": "https://lh3.googleusercontent.com/a-/AOh14Gga3JraUmYmenJue_tGhrYU9zwUg3lPC8A-4OxS=s64",
      "userId": "06605604600625108548"
     },
     "user_tz": -120
    },
    "id": "3eBUOS4CnOoU",
    "outputId": "05a16969-e293-4138-ce4a-e02860462172"
   },
   "outputs": [
    {
     "name": "stdout",
     "output_type": "stream",
     "text": [
      "Collecting kymatio\n",
      "\u001b[?25l  Downloading https://files.pythonhosted.org/packages/10/ae/88e1a04fe72c71c703cd9230691e4bcc6ea1300f187cfc729ddec8b31bcf/kymatio-0.2.0-py3-none-any.whl (92kB)\n",
      "\r",
      "\u001b[K     |███▌                            | 10kB 28.1MB/s eta 0:00:01\r",
      "\u001b[K     |███████                         | 20kB 34.5MB/s eta 0:00:01\r",
      "\u001b[K     |██████████▋                     | 30kB 38.6MB/s eta 0:00:01\r",
      "\u001b[K     |██████████████▏                 | 40kB 32.0MB/s eta 0:00:01\r",
      "\u001b[K     |█████████████████▋              | 51kB 27.5MB/s eta 0:00:01\r",
      "\u001b[K     |█████████████████████▏          | 61kB 30.3MB/s eta 0:00:01\r",
      "\u001b[K     |████████████████████████▊       | 71kB 25.4MB/s eta 0:00:01\r",
      "\u001b[K     |████████████████████████████▎   | 81kB 22.6MB/s eta 0:00:01\r",
      "\u001b[K     |███████████████████████████████▉| 92kB 21.5MB/s eta 0:00:01\r",
      "\u001b[K     |████████████████████████████████| 102kB 9.5MB/s \n",
      "\u001b[?25hCollecting configparser\n",
      "  Downloading https://files.pythonhosted.org/packages/08/b2/ef713e0e67f6e7ec7d59aea3ee78d05b39c15930057e724cc6d362a8c3bb/configparser-5.0.1-py3-none-any.whl\n",
      "Requirement already satisfied: numpy in /usr/local/lib/python3.6/dist-packages (from kymatio) (1.18.5)\n",
      "Collecting appdirs\n",
      "  Downloading https://files.pythonhosted.org/packages/3b/00/2344469e2084fb287c2e0b57b72910309874c3245463acd6cf5e3db69324/appdirs-1.4.4-py2.py3-none-any.whl\n",
      "Requirement already satisfied: packaging in /usr/local/lib/python3.6/dist-packages (from kymatio) (20.4)\n",
      "Requirement already satisfied: scipy in /usr/local/lib/python3.6/dist-packages (from kymatio) (1.4.1)\n",
      "Requirement already satisfied: pyparsing>=2.0.2 in /usr/local/lib/python3.6/dist-packages (from packaging->kymatio) (2.4.7)\n",
      "Requirement already satisfied: six in /usr/local/lib/python3.6/dist-packages (from packaging->kymatio) (1.15.0)\n",
      "Installing collected packages: configparser, appdirs, kymatio\n",
      "Successfully installed appdirs-1.4.4 configparser-5.0.1 kymatio-0.2.0\n"
     ]
    }
   ],
   "source": [
    "!pip install kymatio"
   ]
  },
  {
   "cell_type": "code",
   "execution_count": 2,
   "metadata": {
    "colab": {
     "base_uri": "https://localhost:8080/",
     "height": 34
    },
    "executionInfo": {
     "elapsed": 28694,
     "status": "ok",
     "timestamp": 1603198464247,
     "user": {
      "displayName": "Phuc Tran Hoc",
      "photoUrl": "https://lh3.googleusercontent.com/a-/AOh14Gga3JraUmYmenJue_tGhrYU9zwUg3lPC8A-4OxS=s64",
      "userId": "06605604600625108548"
     },
     "user_tz": -120
    },
    "id": "ApvmyQeZngwy",
    "outputId": "dfdc2e2a-be9f-4445-a64e-ffa6c7f59ec4"
   },
   "outputs": [
    {
     "name": "stdout",
     "output_type": "stream",
     "text": [
      "Mounted at /gdrive\n"
     ]
    }
   ],
   "source": [
    "from google.colab import drive\n",
    "drive.mount('/gdrive')"
   ]
  },
  {
   "cell_type": "code",
   "execution_count": 3,
   "metadata": {
    "colab": {
     "base_uri": "https://localhost:8080/",
     "height": 34
    },
    "executionInfo": {
     "elapsed": 27573,
     "status": "ok",
     "timestamp": 1603198464249,
     "user": {
      "displayName": "Phuc Tran Hoc",
      "photoUrl": "https://lh3.googleusercontent.com/a-/AOh14Gga3JraUmYmenJue_tGhrYU9zwUg3lPC8A-4OxS=s64",
      "userId": "06605604600625108548"
     },
     "user_tz": -120
    },
    "id": "SZRbp0lwnis9",
    "outputId": "823074e3-518a-40aa-87b7-039484939fa4"
   },
   "outputs": [
    {
     "name": "stdout",
     "output_type": "stream",
     "text": [
      "/gdrive/My Drive/Thesis_code\n"
     ]
    }
   ],
   "source": [
    "%cd /gdrive/My Drive/Thesis_code"
   ]
  },
  {
   "cell_type": "code",
   "execution_count": 4,
   "metadata": {
    "colab": {
     "base_uri": "https://localhost:8080/",
     "height": 35
    },
    "executionInfo": {
     "elapsed": 27269,
     "status": "ok",
     "timestamp": 1603198464831,
     "user": {
      "displayName": "Phuc Tran Hoc",
      "photoUrl": "https://lh3.googleusercontent.com/a-/AOh14Gga3JraUmYmenJue_tGhrYU9zwUg3lPC8A-4OxS=s64",
      "userId": "06605604600625108548"
     },
     "user_tz": -120
    },
    "id": "tQQi3Zo5nttN",
    "outputId": "94409767-f27d-4ace-9266-efd5bdd9c47e"
   },
   "outputs": [
    {
     "data": {
      "application/vnd.google.colaboratory.intrinsic+json": {
       "type": "string"
      },
      "text/plain": [
       "'0.2.0'"
      ]
     },
     "execution_count": 4,
     "metadata": {
      "tags": []
     },
     "output_type": "execute_result"
    }
   ],
   "source": [
    "import kymatio\n",
    "kymatio.__version__"
   ]
  },
  {
   "cell_type": "code",
   "execution_count": 5,
   "metadata": {
    "executionInfo": {
     "elapsed": 6767,
     "status": "ok",
     "timestamp": 1603198495955,
     "user": {
      "displayName": "Phuc Tran Hoc",
      "photoUrl": "https://lh3.googleusercontent.com/a-/AOh14Gga3JraUmYmenJue_tGhrYU9zwUg3lPC8A-4OxS=s64",
      "userId": "06605604600625108548"
     },
     "user_tz": -120
    },
    "id": "TUAFAMtHn4BF"
   },
   "outputs": [],
   "source": [
    "import tensorflow as tf\n",
    "from sklearn.model_selection import train_test_split\n",
    "import numpy as np \n",
    "import pandas as pd \n",
    "from google.colab import widgets\n",
    "import matplotlib.pyplot as plt\n",
    "from sklearn import preprocessing \n",
    "from sklearn.metrics import classification_report\n",
    "from sklearn.metrics import accuracy_score, confusion_matrix\n",
    "from sklearn.metrics import precision_score, recall_score, f1_score\n",
    "from utils import file_helper, feature_extraction"
   ]
  },
  {
   "cell_type": "markdown",
   "metadata": {
    "id": "CcBhMo9jlSWe"
   },
   "source": [
    "# Data Pipeline"
   ]
  },
  {
   "cell_type": "code",
   "execution_count": 6,
   "metadata": {
    "executionInfo": {
     "elapsed": 125673,
     "status": "ok",
     "timestamp": 1603198615521,
     "user": {
      "displayName": "Phuc Tran Hoc",
      "photoUrl": "https://lh3.googleusercontent.com/a-/AOh14Gga3JraUmYmenJue_tGhrYU9zwUg3lPC8A-4OxS=s64",
      "userId": "06605604600625108548"
     },
     "user_tz": -120
    },
    "id": "BTJ3phvRlU2p"
   },
   "outputs": [],
   "source": [
    "train_X = np.load('Dataset/split_data/Multi-Class Split/X_train.npy')\n",
    "train_y = np.load('Dataset/split_data/Multi-Class Split/y_train.npy')\n",
    "val_X = np.load('Dataset/split_data/Multi-Class Split/X_val.npy')\n",
    "val_y = np.load('Dataset/split_data/Multi-Class Split/y_val.npy')\n",
    "test_X = np.load('Dataset/split_data/Multi-Class Split/X_test.npy')\n",
    "test_y = np.load('Dataset/split_data/Multi-Class Split/y_test.npy')\n",
    "\n",
    "# Note: \n",
    "# Class     Label     One-hot Encoding\n",
    "# HUMAN       0     [1, 0, 0, 0 ,0]\n",
    "# BICYCLE     1     [0, 1, 0, 0, 0]\n",
    "# PILLAR      2     [0, 0, 1, 0, 0]\n",
    "# WALL        3     [0, 0, 0, 1, 0]\n",
    "# CAR         4     [0, 0, 0, 0, 1]"
   ]
  },
  {
   "cell_type": "code",
   "execution_count": 7,
   "metadata": {
    "colab": {
     "base_uri": "https://localhost:8080/",
     "height": 34
    },
    "executionInfo": {
     "elapsed": 109931,
     "status": "ok",
     "timestamp": 1603198615522,
     "user": {
      "displayName": "Phuc Tran Hoc",
      "photoUrl": "https://lh3.googleusercontent.com/a-/AOh14Gga3JraUmYmenJue_tGhrYU9zwUg3lPC8A-4OxS=s64",
      "userId": "06605604600625108548"
     },
     "user_tz": -120
    },
    "id": "zbK1a0RilWAu",
    "outputId": "c93c50d0-526f-46bb-ccac-365e56efe797"
   },
   "outputs": [
    {
     "name": "stdout",
     "output_type": "stream",
     "text": [
      "(93586, 5704)\n"
     ]
    }
   ],
   "source": [
    "train_X = np.reshape(train_X,(-1,5704))\n",
    "val_X = np.reshape(val_X,(-1,5704))\n",
    "test_X = np.reshape(test_X,(-1,5704))\n",
    "print(train_X.shape)"
   ]
  },
  {
   "cell_type": "code",
   "execution_count": 8,
   "metadata": {
    "executionInfo": {
     "elapsed": 112917,
     "status": "ok",
     "timestamp": 1603198621714,
     "user": {
      "displayName": "Phuc Tran Hoc",
      "photoUrl": "https://lh3.googleusercontent.com/a-/AOh14Gga3JraUmYmenJue_tGhrYU9zwUg3lPC8A-4OxS=s64",
      "userId": "06605604600625108548"
     },
     "user_tz": -120
    },
    "id": "lGaSk5salYwC"
   },
   "outputs": [],
   "source": [
    "BATCH_SIZE = 64\n",
    "SHUFFLE_BUFFER_SIZE = 100\n",
    "\n",
    "train_dataset = tf.data.Dataset.from_tensor_slices((train_X, train_y)).shuffle(SHUFFLE_BUFFER_SIZE).batch(BATCH_SIZE)\n",
    "val_dataset = tf.data.Dataset.from_tensor_slices((val_X, val_y)).shuffle(SHUFFLE_BUFFER_SIZE).batch(BATCH_SIZE)\n",
    "test_dataset = tf.data.Dataset.from_tensor_slices((test_X, test_y)).batch(BATCH_SIZE)"
   ]
  },
  {
   "cell_type": "markdown",
   "metadata": {
    "id": "gLJaGBcblKOu"
   },
   "source": [
    "# Wavelet Transform Multi-Class Model"
   ]
  },
  {
   "cell_type": "code",
   "execution_count": 9,
   "metadata": {
    "executionInfo": {
     "elapsed": 866,
     "status": "ok",
     "timestamp": 1603198634895,
     "user": {
      "displayName": "Phuc Tran Hoc",
      "photoUrl": "https://lh3.googleusercontent.com/a-/AOh14Gga3JraUmYmenJue_tGhrYU9zwUg3lPC8A-4OxS=s64",
      "userId": "06605604600625108548"
     },
     "user_tz": -120
    },
    "id": "4U34jAkJolqL"
   },
   "outputs": [],
   "source": [
    "J = 8\n",
    "T = 5704\n",
    "Q = 12\n",
    "log_eps = 1e-6"
   ]
  },
  {
   "cell_type": "code",
   "execution_count": 10,
   "metadata": {
    "executionInfo": {
     "elapsed": 2317,
     "status": "ok",
     "timestamp": 1603198637329,
     "user": {
      "displayName": "Phuc Tran Hoc",
      "photoUrl": "https://lh3.googleusercontent.com/a-/AOh14Gga3JraUmYmenJue_tGhrYU9zwUg3lPC8A-4OxS=s64",
      "userId": "06605604600625108548"
     },
     "user_tz": -120
    },
    "id": "h1QbJIkUorPx"
   },
   "outputs": [],
   "source": [
    "from kymatio.keras import Scattering1D\n",
    "from tensorflow.keras import layers\n",
    "tf.keras.backend.clear_session()\n",
    "def Wavelet_Simple(): \n",
    "    input = layers.Input(shape=(T))\n",
    "    x = Scattering1D(J, Q = Q)(input)\n",
    "    x = layers.Lambda(lambda x: x[..., 1:, :])(x)\n",
    "    # To increase discriminability, we take the logarithm of the scattering\n",
    "    # coefficients (after adding a small constant to make sure nothing blows up\n",
    "    # when scattering coefficients are close to zero). This is known as the\n",
    "    # log-scattering transform.\n",
    "    x = layers.Lambda(lambda x: tf.math.log(tf.abs(x) + log_eps))(x)\n",
    "    x = layers.GlobalAveragePooling1D(data_format='channels_first')(x)\n",
    "    x = layers.BatchNormalization(axis=1)(x)\n",
    "    x = layers.Flatten()(x)\n",
    "    x = layers.Dense(256, activation=\"relu\")(x)\n",
    "    output = layers.Dense(5, activation='softmax')(x)\n",
    "    return tf.keras.models.Model(input, output)\n"
   ]
  },
  {
   "cell_type": "code",
   "execution_count": 11,
   "metadata": {
    "colab": {
     "base_uri": "https://localhost:8080/",
     "height": 357
    },
    "executionInfo": {
     "elapsed": 12413,
     "status": "ok",
     "timestamp": 1603198656152,
     "user": {
      "displayName": "Phuc Tran Hoc",
      "photoUrl": "https://lh3.googleusercontent.com/a-/AOh14Gga3JraUmYmenJue_tGhrYU9zwUg3lPC8A-4OxS=s64",
      "userId": "06605604600625108548"
     },
     "user_tz": -120
    },
    "id": "v8ukrbd_otJt",
    "outputId": "a48d842b-6cec-4d8a-e1c5-df3de061a231"
   },
   "outputs": [
    {
     "name": "stdout",
     "output_type": "stream",
     "text": [
      "WARNING:tensorflow:AutoGraph could not transform <function <lambda> at 0x7f4610043840> and will run it as-is.\n",
      "Please report this to the TensorFlow team. When filing the bug, set the verbosity to 10 (on Linux, `export AUTOGRAPH_VERBOSITY=10`) and attach the full output.\n",
      "Cause: Unable to identify source code of lambda function <function <lambda> at 0x7f4610043840>. It was defined in this code:\n",
      "backend.fft = FFT(lambda x: tf.signal.fft(x, name='fft1d'),\n",
      "                  lambda x: tf.signal.ifft(x, name='ifft1d'),\n",
      "                  lambda x: tf.math.real(tf.signal.ifft(x, name='irfft1d')),\n",
      "                  lambda x: None)\n",
      "\n",
      "This code must contain a single distinguishable lambda. To avoid this problem, define each lambda in a separate expression.\n",
      "To silence this warning, decorate the function with @tf.autograph.experimental.do_not_convert\n",
      "WARNING: AutoGraph could not transform <function <lambda> at 0x7f4610043840> and will run it as-is.\n",
      "Please report this to the TensorFlow team. When filing the bug, set the verbosity to 10 (on Linux, `export AUTOGRAPH_VERBOSITY=10`) and attach the full output.\n",
      "Cause: Unable to identify source code of lambda function <function <lambda> at 0x7f4610043840>. It was defined in this code:\n",
      "backend.fft = FFT(lambda x: tf.signal.fft(x, name='fft1d'),\n",
      "                  lambda x: tf.signal.ifft(x, name='ifft1d'),\n",
      "                  lambda x: tf.math.real(tf.signal.ifft(x, name='irfft1d')),\n",
      "                  lambda x: None)\n",
      "\n",
      "This code must contain a single distinguishable lambda. To avoid this problem, define each lambda in a separate expression.\n",
      "To silence this warning, decorate the function with @tf.autograph.experimental.do_not_convert\n"
     ]
    }
   ],
   "source": [
    "model = Wavelet_Simple()"
   ]
  },
  {
   "cell_type": "code",
   "execution_count": 12,
   "metadata": {
    "colab": {
     "base_uri": "https://localhost:8080/",
     "height": 459
    },
    "executionInfo": {
     "elapsed": 9061,
     "status": "ok",
     "timestamp": 1603198656153,
     "user": {
      "displayName": "Phuc Tran Hoc",
      "photoUrl": "https://lh3.googleusercontent.com/a-/AOh14Gga3JraUmYmenJue_tGhrYU9zwUg3lPC8A-4OxS=s64",
      "userId": "06605604600625108548"
     },
     "user_tz": -120
    },
    "id": "TxDxsu4gDIMd",
    "outputId": "eab37bd8-f64b-492b-e076-e58795ad9069"
   },
   "outputs": [
    {
     "name": "stdout",
     "output_type": "stream",
     "text": [
      "Model: \"functional_1\"\n",
      "_________________________________________________________________\n",
      "Layer (type)                 Output Shape              Param #   \n",
      "=================================================================\n",
      "input_1 (InputLayer)         [(None, 5704)]            0         \n",
      "_________________________________________________________________\n",
      "scattering1d (Scattering1D)  (None, 337, 23)           0         \n",
      "_________________________________________________________________\n",
      "lambda (Lambda)              (None, 336, 23)           0         \n",
      "_________________________________________________________________\n",
      "lambda_1 (Lambda)            (None, 336, 23)           0         \n",
      "_________________________________________________________________\n",
      "global_average_pooling1d (Gl (None, 336)               0         \n",
      "_________________________________________________________________\n",
      "batch_normalization (BatchNo (None, 336)               1344      \n",
      "_________________________________________________________________\n",
      "flatten (Flatten)            (None, 336)               0         \n",
      "_________________________________________________________________\n",
      "dense (Dense)                (None, 256)               86272     \n",
      "_________________________________________________________________\n",
      "dense_1 (Dense)              (None, 5)                 1285      \n",
      "=================================================================\n",
      "Total params: 88,901\n",
      "Trainable params: 88,229\n",
      "Non-trainable params: 672\n",
      "_________________________________________________________________\n"
     ]
    }
   ],
   "source": [
    "model.summary()"
   ]
  },
  {
   "cell_type": "code",
   "execution_count": 13,
   "metadata": {
    "executionInfo": {
     "elapsed": 5721,
     "status": "ok",
     "timestamp": 1603198656154,
     "user": {
      "displayName": "Phuc Tran Hoc",
      "photoUrl": "https://lh3.googleusercontent.com/a-/AOh14Gga3JraUmYmenJue_tGhrYU9zwUg3lPC8A-4OxS=s64",
      "userId": "06605604600625108548"
     },
     "user_tz": -120
    },
    "id": "RlY87bttovDp"
   },
   "outputs": [],
   "source": [
    "METRICS = [\n",
    "      tf.keras.metrics.CategoricalAccuracy(name='categorical_accuracy'),\n",
    "      tf.keras.metrics.Precision(name='precision'),\n",
    "      tf.keras.metrics.Recall(name='recall'),\n",
    "      tf.keras.metrics.AUC(name='auc'),\n",
    "\n",
    "]"
   ]
  },
  {
   "cell_type": "markdown",
   "metadata": {},
   "source": [
    "# Optimizers, Early Stop, Callbacks, Reduce LR"
   ]
  },
  {
   "cell_type": "code",
   "execution_count": 14,
   "metadata": {
    "colab": {
     "base_uri": "https://localhost:8080/",
     "height": 34
    },
    "executionInfo": {
     "elapsed": 3982,
     "status": "ok",
     "timestamp": 1603198656155,
     "user": {
      "displayName": "Phuc Tran Hoc",
      "photoUrl": "https://lh3.googleusercontent.com/a-/AOh14Gga3JraUmYmenJue_tGhrYU9zwUg3lPC8A-4OxS=s64",
      "userId": "06605604600625108548"
     },
     "user_tz": -120
    },
    "id": "zjh3NYGpo2hh",
    "outputId": "b10ed183-e81c-49cc-9f3a-0fc27971939a"
   },
   "outputs": [
    {
     "name": "stdout",
     "output_type": "stream",
     "text": [
      "WARNING:tensorflow:`period` argument is deprecated. Please use `save_freq` to specify the frequency in number of batches seen.\n"
     ]
    }
   ],
   "source": [
    "from tensorflow.keras.optimizers import RMSprop,Adam\n",
    "model.compile(optimizer = RMSprop(learning_rate = 1e-3), loss = 'categorical_crossentropy',metrics = [METRICS])\n",
    "import os \n",
    "from tensorflow.keras.callbacks import EarlyStopping\n",
    "\n",
    "#Early stop to avoid overfitting\n",
    "early_stop = EarlyStopping(patience = 5, verbose = 1)\n",
    "\n",
    "#Provides unique names for checkpoints and adjust the checkpointing frequency\n",
    "checkpoint_path = \"Wavelet_Multi_RMSProp/cp-{epoch:04d}.ckpt\"\n",
    "checkpoint_dir = os.path.dirname(checkpoint_path)\n",
    "\n",
    "#Create a call back that save the model's weights\n",
    "cp_callback = tf.keras.callbacks.ModelCheckpoint(filepath = checkpoint_path,\n",
    "                                                 save_weights_only = True,\n",
    "                                                 verbose = 1,\n",
    "                                                 period = 10)\n",
    "reduce_lr = tf.keras.callbacks.ReduceLROnPlateau(monitor='val_loss', factor=0.1, patience=3, verbose= 1, min_lr=1e-7)\n"
   ]
  },
  {
   "cell_type": "markdown",
   "metadata": {},
   "source": [
    "# Train"
   ]
  },
  {
   "cell_type": "code",
   "execution_count": 15,
   "metadata": {
    "colab": {
     "base_uri": "https://localhost:8080/",
     "height": 1000
    },
    "executionInfo": {
     "elapsed": 28371496,
     "status": "ok",
     "timestamp": 1603227025693,
     "user": {
      "displayName": "Phuc Tran Hoc",
      "photoUrl": "https://lh3.googleusercontent.com/a-/AOh14Gga3JraUmYmenJue_tGhrYU9zwUg3lPC8A-4OxS=s64",
      "userId": "06605604600625108548"
     },
     "user_tz": -120
    },
    "id": "bLeC6T8Xo4If",
    "outputId": "f2db886a-5e86-410a-a4c4-47bd13a8a034"
   },
   "outputs": [
    {
     "name": "stdout",
     "output_type": "stream",
     "text": [
      "Epoch 1/100\n",
      "1463/1463 [==============================] - 302s 206ms/step - loss: 1.0245 - categorical_accuracy: 0.6226 - precision: 0.7279 - recall: 0.4948 - auc: 0.8676 - val_loss: 1.0221 - val_categorical_accuracy: 0.6276 - val_precision: 0.6788 - val_recall: 0.5549 - val_auc: 0.8787\n",
      "Epoch 2/100\n",
      "1463/1463 [==============================] - 284s 194ms/step - loss: 0.8656 - categorical_accuracy: 0.6767 - precision: 0.7693 - recall: 0.5687 - auc: 0.9053 - val_loss: 0.9326 - val_categorical_accuracy: 0.6493 - val_precision: 0.7348 - val_recall: 0.5405 - val_auc: 0.8893\n",
      "Epoch 3/100\n",
      "1463/1463 [==============================] - 285s 195ms/step - loss: 0.8039 - categorical_accuracy: 0.7013 - precision: 0.7828 - recall: 0.6075 - auc: 0.9183 - val_loss: 0.7682 - val_categorical_accuracy: 0.7148 - val_precision: 0.7777 - val_recall: 0.6445 - val_auc: 0.9262\n",
      "Epoch 4/100\n",
      "1463/1463 [==============================] - 284s 194ms/step - loss: 0.7593 - categorical_accuracy: 0.7195 - precision: 0.7937 - recall: 0.6336 - auc: 0.9272 - val_loss: 0.7918 - val_categorical_accuracy: 0.7095 - val_precision: 0.7921 - val_recall: 0.6285 - val_auc: 0.9210\n",
      "Epoch 5/100\n",
      "1463/1463 [==============================] - 283s 194ms/step - loss: 0.7272 - categorical_accuracy: 0.7320 - precision: 0.8021 - recall: 0.6514 - auc: 0.9332 - val_loss: 0.8866 - val_categorical_accuracy: 0.6834 - val_precision: 0.7250 - val_recall: 0.6374 - val_auc: 0.9124\n",
      "Epoch 6/100\n",
      "1463/1463 [==============================] - 283s 193ms/step - loss: 0.7020 - categorical_accuracy: 0.7413 - precision: 0.8090 - recall: 0.6663 - auc: 0.9377 - val_loss: 0.8814 - val_categorical_accuracy: 0.6966 - val_precision: 0.7384 - val_recall: 0.6481 - val_auc: 0.9095\n",
      "Epoch 7/100\n",
      "1463/1463 [==============================] - 280s 191ms/step - loss: 0.6810 - categorical_accuracy: 0.7509 - precision: 0.8139 - recall: 0.6795 - auc: 0.9414 - val_loss: 0.7205 - val_categorical_accuracy: 0.7350 - val_precision: 0.7943 - val_recall: 0.6736 - val_auc: 0.9346\n",
      "Epoch 8/100\n",
      "1463/1463 [==============================] - 279s 190ms/step - loss: 0.6604 - categorical_accuracy: 0.7570 - precision: 0.8187 - recall: 0.6911 - auc: 0.9448 - val_loss: 0.6852 - val_categorical_accuracy: 0.7478 - val_precision: 0.7979 - val_recall: 0.6992 - val_auc: 0.9424\n",
      "Epoch 9/100\n",
      "1463/1463 [==============================] - 277s 189ms/step - loss: 0.6499 - categorical_accuracy: 0.7621 - precision: 0.8221 - recall: 0.6967 - auc: 0.9465 - val_loss: 0.6757 - val_categorical_accuracy: 0.7565 - val_precision: 0.8058 - val_recall: 0.7100 - val_auc: 0.9445\n",
      "Epoch 10/100\n",
      "1463/1463 [==============================] - 279s 191ms/step - loss: 0.6334 - categorical_accuracy: 0.7682 - precision: 0.8249 - recall: 0.7051 - auc: 0.9492 - val_loss: 0.7363 - val_categorical_accuracy: 0.7316 - val_precision: 0.7798 - val_recall: 0.6876 - val_auc: 0.9349\n",
      "Epoch 11/100\n",
      "1463/1463 [==============================] - 282s 193ms/step - loss: 0.6235 - categorical_accuracy: 0.7722 - precision: 0.8286 - recall: 0.7126 - auc: 0.9507 - val_loss: 0.7367 - val_categorical_accuracy: 0.7417 - val_precision: 0.7818 - val_recall: 0.7042 - val_auc: 0.9374\n",
      "Epoch 12/100\n",
      "1463/1463 [==============================] - 280s 191ms/step - loss: 0.6115 - categorical_accuracy: 0.7778 - precision: 0.8326 - recall: 0.7196 - auc: 0.9525 - val_loss: 0.6540 - val_categorical_accuracy: 0.7607 - val_precision: 0.8096 - val_recall: 0.7119 - val_auc: 0.9471\n",
      "Epoch 13/100\n",
      "1463/1463 [==============================] - 279s 190ms/step - loss: 0.6020 - categorical_accuracy: 0.7811 - precision: 0.8335 - recall: 0.7243 - auc: 0.9539 - val_loss: 0.6736 - val_categorical_accuracy: 0.7529 - val_precision: 0.7953 - val_recall: 0.7089 - val_auc: 0.9448\n",
      "Epoch 14/100\n",
      "1463/1463 [==============================] - 280s 191ms/step - loss: 0.5924 - categorical_accuracy: 0.7848 - precision: 0.8370 - recall: 0.7299 - auc: 0.9554 - val_loss: 0.6889 - val_categorical_accuracy: 0.7509 - val_precision: 0.7899 - val_recall: 0.7182 - val_auc: 0.9441\n",
      "Epoch 15/100\n",
      "1463/1463 [==============================] - 280s 192ms/step - loss: 0.5856 - categorical_accuracy: 0.7870 - precision: 0.8388 - recall: 0.7340 - auc: 0.9565 - val_loss: 0.7114 - val_categorical_accuracy: 0.7400 - val_precision: 0.7876 - val_recall: 0.6896 - val_auc: 0.9380\n",
      "Epoch 16/100\n",
      "1463/1463 [==============================] - 280s 191ms/step - loss: 0.5764 - categorical_accuracy: 0.7904 - precision: 0.8416 - recall: 0.7383 - auc: 0.9577 - val_loss: 0.6189 - val_categorical_accuracy: 0.7764 - val_precision: 0.8200 - val_recall: 0.7312 - val_auc: 0.9521\n",
      "Epoch 17/100\n",
      "1463/1463 [==============================] - 279s 191ms/step - loss: 0.5703 - categorical_accuracy: 0.7928 - precision: 0.8411 - recall: 0.7415 - auc: 0.9586 - val_loss: 0.6621 - val_categorical_accuracy: 0.7659 - val_precision: 0.8032 - val_recall: 0.7326 - val_auc: 0.9487\n",
      "Epoch 18/100\n",
      "1463/1463 [==============================] - 284s 194ms/step - loss: 0.5629 - categorical_accuracy: 0.7959 - precision: 0.8440 - recall: 0.7455 - auc: 0.9595 - val_loss: 0.7577 - val_categorical_accuracy: 0.7248 - val_precision: 0.7649 - val_recall: 0.6851 - val_auc: 0.9335\n",
      "Epoch 19/100\n",
      "1463/1463 [==============================] - 284s 194ms/step - loss: 0.5570 - categorical_accuracy: 0.7978 - precision: 0.8456 - recall: 0.7489 - auc: 0.9604 - val_loss: 0.6744 - val_categorical_accuracy: 0.7580 - val_precision: 0.7992 - val_recall: 0.7210 - val_auc: 0.9463\n",
      "Epoch 20/100\n",
      "1463/1463 [==============================] - 277s 189ms/step - loss: 0.5504 - categorical_accuracy: 0.8011 - precision: 0.8480 - recall: 0.7528 - auc: 0.9613 - val_loss: 0.6157 - val_categorical_accuracy: 0.7802 - val_precision: 0.8153 - val_recall: 0.7436 - val_auc: 0.9540\n",
      "Epoch 21/100\n",
      "1463/1463 [==============================] - 278s 190ms/step - loss: 0.5459 - categorical_accuracy: 0.8018 - precision: 0.8480 - recall: 0.7558 - auc: 0.9620 - val_loss: 0.7326 - val_categorical_accuracy: 0.7489 - val_precision: 0.7769 - val_recall: 0.7191 - val_auc: 0.9418\n",
      "Epoch 22/100\n",
      "1463/1463 [==============================] - 289s 197ms/step - loss: 0.5392 - categorical_accuracy: 0.8053 - precision: 0.8501 - recall: 0.7582 - auc: 0.9629 - val_loss: 0.6358 - val_categorical_accuracy: 0.7651 - val_precision: 0.8082 - val_recall: 0.7277 - val_auc: 0.9504\n",
      "Epoch 23/100\n",
      "1463/1463 [==============================] - 282s 193ms/step - loss: 0.5364 - categorical_accuracy: 0.8059 - precision: 0.8500 - recall: 0.7594 - auc: 0.9632 - val_loss: 0.6708 - val_categorical_accuracy: 0.7584 - val_precision: 0.7973 - val_recall: 0.7258 - val_auc: 0.9469\n",
      "Epoch 24/100\n",
      "1463/1463 [==============================] - 283s 193ms/step - loss: 0.5330 - categorical_accuracy: 0.8077 - precision: 0.8508 - recall: 0.7627 - auc: 0.9636 - val_loss: 0.6068 - val_categorical_accuracy: 0.7879 - val_precision: 0.8236 - val_recall: 0.7525 - val_auc: 0.9556\n",
      "Epoch 25/100\n",
      "1463/1463 [==============================] - 285s 194ms/step - loss: 0.5266 - categorical_accuracy: 0.8112 - precision: 0.8527 - recall: 0.7661 - auc: 0.9644 - val_loss: 0.5976 - val_categorical_accuracy: 0.7838 - val_precision: 0.8222 - val_recall: 0.7482 - val_auc: 0.9562\n",
      "Epoch 26/100\n",
      "1463/1463 [==============================] - 280s 191ms/step - loss: 0.5239 - categorical_accuracy: 0.8123 - precision: 0.8530 - recall: 0.7683 - auc: 0.9648 - val_loss: 0.5966 - val_categorical_accuracy: 0.7817 - val_precision: 0.8199 - val_recall: 0.7418 - val_auc: 0.9556\n",
      "Epoch 27/100\n",
      "1463/1463 [==============================] - 280s 191ms/step - loss: 0.5206 - categorical_accuracy: 0.8143 - precision: 0.8547 - recall: 0.7707 - auc: 0.9652 - val_loss: 0.5786 - val_categorical_accuracy: 0.7906 - val_precision: 0.8298 - val_recall: 0.7555 - val_auc: 0.9587\n",
      "Epoch 28/100\n",
      "1463/1463 [==============================] - 278s 190ms/step - loss: 0.5153 - categorical_accuracy: 0.8148 - precision: 0.8553 - recall: 0.7730 - auc: 0.9658 - val_loss: 0.6082 - val_categorical_accuracy: 0.7887 - val_precision: 0.8217 - val_recall: 0.7596 - val_auc: 0.9561\n",
      "Epoch 29/100\n",
      "1463/1463 [==============================] - 279s 191ms/step - loss: 0.5126 - categorical_accuracy: 0.8151 - precision: 0.8556 - recall: 0.7739 - auc: 0.9662 - val_loss: 0.6837 - val_categorical_accuracy: 0.7537 - val_precision: 0.7916 - val_recall: 0.7230 - val_auc: 0.9463\n",
      "Epoch 30/100\n",
      "1463/1463 [==============================] - 279s 190ms/step - loss: 0.5085 - categorical_accuracy: 0.8180 - precision: 0.8575 - recall: 0.7768 - auc: 0.9667 - val_loss: 0.6270 - val_categorical_accuracy: 0.7794 - val_precision: 0.8115 - val_recall: 0.7486 - val_auc: 0.9535\n",
      "Epoch 31/100\n",
      "1463/1463 [==============================] - 279s 191ms/step - loss: 0.5081 - categorical_accuracy: 0.8173 - precision: 0.8568 - recall: 0.7769 - auc: 0.9669 - val_loss: 0.5912 - val_categorical_accuracy: 0.7846 - val_precision: 0.8221 - val_recall: 0.7521 - val_auc: 0.9569\n",
      "Epoch 32/100\n",
      "1463/1463 [==============================] - 283s 193ms/step - loss: 0.5009 - categorical_accuracy: 0.8196 - precision: 0.8587 - recall: 0.7802 - auc: 0.9676 - val_loss: 0.6703 - val_categorical_accuracy: 0.7630 - val_precision: 0.7960 - val_recall: 0.7353 - val_auc: 0.9490\n",
      "Epoch 33/100\n",
      "1463/1463 [==============================] - 280s 191ms/step - loss: 0.5009 - categorical_accuracy: 0.8209 - precision: 0.8594 - recall: 0.7805 - auc: 0.9676 - val_loss: 0.6605 - val_categorical_accuracy: 0.7686 - val_precision: 0.8009 - val_recall: 0.7402 - val_auc: 0.9500\n",
      "Epoch 34/100\n",
      "1463/1463 [==============================] - 280s 192ms/step - loss: 0.5013 - categorical_accuracy: 0.8199 - precision: 0.8587 - recall: 0.7813 - auc: 0.9676 - val_loss: 0.6115 - val_categorical_accuracy: 0.7787 - val_precision: 0.8166 - val_recall: 0.7475 - val_auc: 0.9548\n",
      "Epoch 35/100\n",
      "1463/1463 [==============================] - 283s 194ms/step - loss: 0.4975 - categorical_accuracy: 0.8216 - precision: 0.8594 - recall: 0.7834 - auc: 0.9681 - val_loss: 0.6747 - val_categorical_accuracy: 0.7599 - val_precision: 0.7912 - val_recall: 0.7278 - val_auc: 0.9473\n",
      "Epoch 36/100\n",
      "1463/1463 [==============================] - 284s 194ms/step - loss: 0.4929 - categorical_accuracy: 0.8238 - precision: 0.8618 - recall: 0.7861 - auc: 0.9686 - val_loss: 0.6610 - val_categorical_accuracy: 0.7710 - val_precision: 0.8011 - val_recall: 0.7438 - val_auc: 0.9501\n",
      "Epoch 37/100\n",
      "1463/1463 [==============================] - 281s 192ms/step - loss: 0.4883 - categorical_accuracy: 0.8253 - precision: 0.8618 - recall: 0.7874 - auc: 0.9691 - val_loss: 0.6447 - val_categorical_accuracy: 0.7671 - val_precision: 0.8035 - val_recall: 0.7329 - val_auc: 0.9501\n",
      "Epoch 38/100\n",
      "1463/1463 [==============================] - 288s 197ms/step - loss: 0.4852 - categorical_accuracy: 0.8255 - precision: 0.8618 - recall: 0.7890 - auc: 0.9696 - val_loss: 0.6140 - val_categorical_accuracy: 0.7830 - val_precision: 0.8202 - val_recall: 0.7538 - val_auc: 0.9554\n",
      "Epoch 39/100\n",
      "1463/1463 [==============================] - 285s 195ms/step - loss: 0.4851 - categorical_accuracy: 0.8261 - precision: 0.8621 - recall: 0.7901 - auc: 0.9696 - val_loss: 0.6931 - val_categorical_accuracy: 0.7610 - val_precision: 0.7950 - val_recall: 0.7342 - val_auc: 0.9467\n",
      "Epoch 40/100\n",
      "1463/1463 [==============================] - 283s 193ms/step - loss: 0.4850 - categorical_accuracy: 0.8261 - precision: 0.8618 - recall: 0.7890 - auc: 0.9696 - val_loss: 0.6076 - val_categorical_accuracy: 0.7865 - val_precision: 0.8200 - val_recall: 0.7572 - val_auc: 0.9563\n",
      "Epoch 41/100\n",
      "1463/1463 [==============================] - 288s 197ms/step - loss: 0.4815 - categorical_accuracy: 0.8273 - precision: 0.8636 - recall: 0.7915 - auc: 0.9700 - val_loss: 0.6700 - val_categorical_accuracy: 0.7693 - val_precision: 0.8016 - val_recall: 0.7396 - val_auc: 0.9486\n",
      "Epoch 42/100\n",
      "1463/1463 [==============================] - 283s 193ms/step - loss: 0.4764 - categorical_accuracy: 0.8297 - precision: 0.8647 - recall: 0.7937 - auc: 0.9705 - val_loss: 0.6327 - val_categorical_accuracy: 0.7726 - val_precision: 0.8062 - val_recall: 0.7450 - val_auc: 0.9527\n",
      "Epoch 43/100\n",
      "1463/1463 [==============================] - 279s 191ms/step - loss: 0.4750 - categorical_accuracy: 0.8297 - precision: 0.8645 - recall: 0.7947 - auc: 0.9707 - val_loss: 0.6851 - val_categorical_accuracy: 0.7596 - val_precision: 0.7894 - val_recall: 0.7282 - val_auc: 0.9467\n",
      "Epoch 44/100\n",
      "1463/1463 [==============================] - 280s 192ms/step - loss: 0.4736 - categorical_accuracy: 0.8302 - precision: 0.8640 - recall: 0.7953 - auc: 0.9709 - val_loss: 0.6048 - val_categorical_accuracy: 0.7884 - val_precision: 0.8189 - val_recall: 0.7613 - val_auc: 0.9565\n",
      "Epoch 45/100\n",
      "1463/1463 [==============================] - 277s 190ms/step - loss: 0.4737 - categorical_accuracy: 0.8307 - precision: 0.8647 - recall: 0.7955 - auc: 0.9709 - val_loss: 0.7411 - val_categorical_accuracy: 0.7499 - val_precision: 0.7754 - val_recall: 0.7254 - val_auc: 0.9412\n",
      "Epoch 46/100\n",
      "1463/1463 [==============================] - 279s 191ms/step - loss: 0.4705 - categorical_accuracy: 0.8310 - precision: 0.8651 - recall: 0.7969 - auc: 0.9713 - val_loss: 0.6782 - val_categorical_accuracy: 0.7680 - val_precision: 0.7983 - val_recall: 0.7382 - val_auc: 0.9476\n",
      "Epoch 47/100\n",
      "1463/1463 [==============================] - 280s 191ms/step - loss: 0.4710 - categorical_accuracy: 0.8317 - precision: 0.8651 - recall: 0.7974 - auc: 0.9712 - val_loss: 0.6257 - val_categorical_accuracy: 0.7873 - val_precision: 0.8169 - val_recall: 0.7609 - val_auc: 0.9555\n",
      "Epoch 48/100\n",
      "1463/1463 [==============================] - 279s 191ms/step - loss: 0.4682 - categorical_accuracy: 0.8320 - precision: 0.8658 - recall: 0.7984 - auc: 0.9715 - val_loss: 0.6641 - val_categorical_accuracy: 0.7802 - val_precision: 0.8058 - val_recall: 0.7578 - val_auc: 0.9523\n",
      "Epoch 49/100\n",
      "1463/1463 [==============================] - 280s 191ms/step - loss: 0.4683 - categorical_accuracy: 0.8331 - precision: 0.8664 - recall: 0.7991 - auc: 0.9715 - val_loss: 0.5620 - val_categorical_accuracy: 0.7979 - val_precision: 0.8330 - val_recall: 0.7696 - val_auc: 0.9606\n",
      "Epoch 50/100\n",
      "1463/1463 [==============================] - 285s 195ms/step - loss: 0.4630 - categorical_accuracy: 0.8338 - precision: 0.8679 - recall: 0.8012 - auc: 0.9721 - val_loss: 0.6148 - val_categorical_accuracy: 0.7903 - val_precision: 0.8221 - val_recall: 0.7655 - val_auc: 0.9556\n",
      "Epoch 51/100\n",
      "1463/1463 [==============================] - 282s 193ms/step - loss: 0.4634 - categorical_accuracy: 0.8342 - precision: 0.8678 - recall: 0.8004 - auc: 0.9721 - val_loss: 0.6256 - val_categorical_accuracy: 0.7869 - val_precision: 0.8186 - val_recall: 0.7601 - val_auc: 0.9549\n",
      "Epoch 52/100\n",
      "1463/1463 [==============================] - 278s 190ms/step - loss: 0.4589 - categorical_accuracy: 0.8367 - precision: 0.8699 - recall: 0.8038 - auc: 0.9726 - val_loss: 0.6167 - val_categorical_accuracy: 0.7853 - val_precision: 0.8178 - val_recall: 0.7603 - val_auc: 0.9554\n",
      "Epoch 53/100\n",
      "1463/1463 [==============================] - 278s 190ms/step - loss: 0.4631 - categorical_accuracy: 0.8348 - precision: 0.8678 - recall: 0.8028 - auc: 0.9722 - val_loss: 0.6588 - val_categorical_accuracy: 0.7857 - val_precision: 0.8120 - val_recall: 0.7622 - val_auc: 0.9522\n",
      "Epoch 54/100\n",
      "1463/1463 [==============================] - 280s 191ms/step - loss: 0.4609 - categorical_accuracy: 0.8355 - precision: 0.8678 - recall: 0.8032 - auc: 0.9724 - val_loss: 0.5837 - val_categorical_accuracy: 0.7952 - val_precision: 0.8263 - val_recall: 0.7631 - val_auc: 0.9585\n",
      "Epoch 55/100\n",
      "1463/1463 [==============================] - 279s 190ms/step - loss: 0.4573 - categorical_accuracy: 0.8364 - precision: 0.8700 - recall: 0.8036 - auc: 0.9727 - val_loss: 0.6174 - val_categorical_accuracy: 0.7889 - val_precision: 0.8198 - val_recall: 0.7606 - val_auc: 0.9559\n",
      "Epoch 56/100\n",
      "1463/1463 [==============================] - 278s 190ms/step - loss: 0.4557 - categorical_accuracy: 0.8381 - precision: 0.8692 - recall: 0.8058 - auc: 0.9729 - val_loss: 0.6794 - val_categorical_accuracy: 0.7801 - val_precision: 0.8032 - val_recall: 0.7600 - val_auc: 0.9510\n",
      "Epoch 57/100\n",
      "1463/1463 [==============================] - 278s 190ms/step - loss: 0.4556 - categorical_accuracy: 0.8380 - precision: 0.8695 - recall: 0.8051 - auc: 0.9729 - val_loss: 0.6752 - val_categorical_accuracy: 0.7703 - val_precision: 0.7995 - val_recall: 0.7431 - val_auc: 0.9494\n",
      "Epoch 58/100\n",
      "1463/1463 [==============================] - 277s 189ms/step - loss: 0.4558 - categorical_accuracy: 0.8377 - precision: 0.8691 - recall: 0.8051 - auc: 0.9729 - val_loss: 0.6686 - val_categorical_accuracy: 0.7795 - val_precision: 0.8052 - val_recall: 0.7562 - val_auc: 0.9518\n",
      "Epoch 59/100\n",
      "1463/1463 [==============================] - 277s 189ms/step - loss: 0.4537 - categorical_accuracy: 0.8391 - precision: 0.8704 - recall: 0.8070 - auc: 0.9731 - val_loss: 0.5900 - val_categorical_accuracy: 0.7973 - val_precision: 0.8265 - val_recall: 0.7699 - val_auc: 0.9588\n",
      "Epoch 60/100\n",
      "1463/1463 [==============================] - 279s 190ms/step - loss: 0.4507 - categorical_accuracy: 0.8396 - precision: 0.8702 - recall: 0.8085 - auc: 0.9734 - val_loss: 0.6232 - val_categorical_accuracy: 0.7920 - val_precision: 0.8213 - val_recall: 0.7672 - val_auc: 0.9555\n",
      "Epoch 61/100\n",
      "1463/1463 [==============================] - 284s 194ms/step - loss: 0.4509 - categorical_accuracy: 0.8391 - precision: 0.8702 - recall: 0.8079 - auc: 0.9734 - val_loss: 0.6221 - val_categorical_accuracy: 0.7922 - val_precision: 0.8222 - val_recall: 0.7650 - val_auc: 0.9561\n",
      "Epoch 62/100\n",
      "1463/1463 [==============================] - 281s 192ms/step - loss: 0.4512 - categorical_accuracy: 0.8390 - precision: 0.8703 - recall: 0.8076 - auc: 0.9735 - val_loss: 0.5943 - val_categorical_accuracy: 0.7975 - val_precision: 0.8263 - val_recall: 0.7699 - val_auc: 0.9586\n",
      "Epoch 63/100\n",
      "1463/1463 [==============================] - 287s 196ms/step - loss: 0.4486 - categorical_accuracy: 0.8399 - precision: 0.8707 - recall: 0.8089 - auc: 0.9737 - val_loss: 0.6118 - val_categorical_accuracy: 0.7992 - val_precision: 0.8245 - val_recall: 0.7709 - val_auc: 0.9563\n",
      "Epoch 64/100\n",
      "1463/1463 [==============================] - 278s 190ms/step - loss: 0.4483 - categorical_accuracy: 0.8398 - precision: 0.8706 - recall: 0.8098 - auc: 0.9738 - val_loss: 0.6059 - val_categorical_accuracy: 0.8021 - val_precision: 0.8318 - val_recall: 0.7742 - val_auc: 0.9578\n",
      "Epoch 65/100\n",
      "1463/1463 [==============================] - 277s 189ms/step - loss: 0.4468 - categorical_accuracy: 0.8413 - precision: 0.8724 - recall: 0.8115 - auc: 0.9739 - val_loss: 0.7063 - val_categorical_accuracy: 0.7738 - val_precision: 0.7990 - val_recall: 0.7501 - val_auc: 0.9477\n",
      "Epoch 66/100\n",
      "1463/1463 [==============================] - 277s 189ms/step - loss: 0.4455 - categorical_accuracy: 0.8403 - precision: 0.8712 - recall: 0.8104 - auc: 0.9740 - val_loss: 0.6278 - val_categorical_accuracy: 0.7916 - val_precision: 0.8164 - val_recall: 0.7651 - val_auc: 0.9559\n",
      "Epoch 67/100\n",
      "1463/1463 [==============================] - 282s 193ms/step - loss: 0.4441 - categorical_accuracy: 0.8419 - precision: 0.8715 - recall: 0.8127 - auc: 0.9742 - val_loss: 0.6270 - val_categorical_accuracy: 0.7942 - val_precision: 0.8171 - val_recall: 0.7727 - val_auc: 0.9564\n",
      "Epoch 68/100\n",
      "1463/1463 [==============================] - 290s 198ms/step - loss: 0.4443 - categorical_accuracy: 0.8426 - precision: 0.8724 - recall: 0.8125 - auc: 0.9741 - val_loss: 0.6958 - val_categorical_accuracy: 0.7892 - val_precision: 0.8121 - val_recall: 0.7674 - val_auc: 0.9504\n",
      "Epoch 69/100\n",
      "1463/1463 [==============================] - 286s 196ms/step - loss: 0.4430 - categorical_accuracy: 0.8417 - precision: 0.8718 - recall: 0.8121 - auc: 0.9744 - val_loss: 0.6271 - val_categorical_accuracy: 0.7967 - val_precision: 0.8252 - val_recall: 0.7724 - val_auc: 0.9557\n",
      "Epoch 70/100\n",
      "1463/1463 [==============================] - 283s 193ms/step - loss: 0.4419 - categorical_accuracy: 0.8433 - precision: 0.8737 - recall: 0.8143 - auc: 0.9744 - val_loss: 0.6098 - val_categorical_accuracy: 0.7998 - val_precision: 0.8259 - val_recall: 0.7770 - val_auc: 0.9578\n",
      "Epoch 71/100\n",
      "1463/1463 [==============================] - 285s 195ms/step - loss: 0.4421 - categorical_accuracy: 0.8433 - precision: 0.8722 - recall: 0.8140 - auc: 0.9744 - val_loss: 0.6349 - val_categorical_accuracy: 0.8001 - val_precision: 0.8221 - val_recall: 0.7782 - val_auc: 0.9561\n",
      "Epoch 72/100\n",
      "1463/1463 [==============================] - 282s 193ms/step - loss: 0.4414 - categorical_accuracy: 0.8429 - precision: 0.8725 - recall: 0.8145 - auc: 0.9746 - val_loss: 0.6816 - val_categorical_accuracy: 0.7802 - val_precision: 0.8032 - val_recall: 0.7594 - val_auc: 0.9519\n",
      "Epoch 73/100\n",
      "1463/1463 [==============================] - 281s 192ms/step - loss: 0.4372 - categorical_accuracy: 0.8443 - precision: 0.8737 - recall: 0.8143 - auc: 0.9749 - val_loss: 0.6047 - val_categorical_accuracy: 0.7897 - val_precision: 0.8205 - val_recall: 0.7636 - val_auc: 0.9575\n",
      "Epoch 74/100\n",
      "1463/1463 [==============================] - 287s 196ms/step - loss: 0.4390 - categorical_accuracy: 0.8439 - precision: 0.8731 - recall: 0.8151 - auc: 0.9747 - val_loss: 0.7824 - val_categorical_accuracy: 0.7631 - val_precision: 0.7873 - val_recall: 0.7421 - val_auc: 0.9411\n",
      "Epoch 75/100\n",
      "1463/1463 [==============================] - 279s 191ms/step - loss: 0.4396 - categorical_accuracy: 0.8446 - precision: 0.8735 - recall: 0.8157 - auc: 0.9748 - val_loss: 0.5984 - val_categorical_accuracy: 0.7997 - val_precision: 0.8279 - val_recall: 0.7736 - val_auc: 0.9583\n",
      "Epoch 76/100\n",
      "1463/1463 [==============================] - 277s 189ms/step - loss: 0.4369 - categorical_accuracy: 0.8444 - precision: 0.8731 - recall: 0.8153 - auc: 0.9749 - val_loss: 0.6641 - val_categorical_accuracy: 0.7813 - val_precision: 0.8072 - val_recall: 0.7592 - val_auc: 0.9522\n",
      "Epoch 77/100\n",
      "1463/1463 [==============================] - 274s 187ms/step - loss: 0.4374 - categorical_accuracy: 0.8443 - precision: 0.8736 - recall: 0.8158 - auc: 0.9749 - val_loss: 0.6290 - val_categorical_accuracy: 0.7888 - val_precision: 0.8173 - val_recall: 0.7601 - val_auc: 0.9541\n",
      "Epoch 78/100\n",
      "1463/1463 [==============================] - 274s 188ms/step - loss: 0.4340 - categorical_accuracy: 0.8440 - precision: 0.8731 - recall: 0.8165 - auc: 0.9753 - val_loss: 0.6894 - val_categorical_accuracy: 0.7773 - val_precision: 0.8029 - val_recall: 0.7565 - val_auc: 0.9494\n",
      "Epoch 79/100\n",
      "1463/1463 [==============================] - 275s 188ms/step - loss: 0.4321 - categorical_accuracy: 0.8465 - precision: 0.8750 - recall: 0.8167 - auc: 0.9755 - val_loss: 0.8347 - val_categorical_accuracy: 0.7490 - val_precision: 0.7697 - val_recall: 0.7297 - val_auc: 0.9341\n",
      "Epoch 80/100\n",
      "1463/1463 [==============================] - 275s 188ms/step - loss: 0.4338 - categorical_accuracy: 0.8460 - precision: 0.8749 - recall: 0.8177 - auc: 0.9754 - val_loss: 0.7080 - val_categorical_accuracy: 0.7621 - val_precision: 0.7886 - val_recall: 0.7390 - val_auc: 0.9459\n",
      "Epoch 81/100\n",
      "1463/1463 [==============================] - 275s 188ms/step - loss: 0.4331 - categorical_accuracy: 0.8479 - precision: 0.8759 - recall: 0.8186 - auc: 0.9755 - val_loss: 0.6588 - val_categorical_accuracy: 0.7910 - val_precision: 0.8151 - val_recall: 0.7696 - val_auc: 0.9534\n",
      "Epoch 82/100\n",
      "1463/1463 [==============================] - 275s 188ms/step - loss: 0.4311 - categorical_accuracy: 0.8459 - precision: 0.8732 - recall: 0.8175 - auc: 0.9755 - val_loss: 0.6814 - val_categorical_accuracy: 0.7792 - val_precision: 0.8066 - val_recall: 0.7522 - val_auc: 0.9504\n",
      "Epoch 83/100\n",
      "1463/1463 [==============================] - 275s 188ms/step - loss: 0.4323 - categorical_accuracy: 0.8455 - precision: 0.8754 - recall: 0.8177 - auc: 0.9754 - val_loss: 0.6600 - val_categorical_accuracy: 0.7846 - val_precision: 0.8120 - val_recall: 0.7654 - val_auc: 0.9534\n",
      "Epoch 84/100\n",
      "1463/1463 [==============================] - 275s 188ms/step - loss: 0.4312 - categorical_accuracy: 0.8459 - precision: 0.8756 - recall: 0.8169 - auc: 0.9756 - val_loss: 0.7464 - val_categorical_accuracy: 0.7675 - val_precision: 0.7898 - val_recall: 0.7466 - val_auc: 0.9449\n",
      "Epoch 85/100\n",
      "1463/1463 [==============================] - 274s 188ms/step - loss: 0.4294 - categorical_accuracy: 0.8473 - precision: 0.8756 - recall: 0.8199 - auc: 0.9757 - val_loss: 0.6966 - val_categorical_accuracy: 0.7856 - val_precision: 0.8087 - val_recall: 0.7618 - val_auc: 0.9498\n",
      "Epoch 86/100\n",
      "1463/1463 [==============================] - 274s 188ms/step - loss: 0.4283 - categorical_accuracy: 0.8479 - precision: 0.8765 - recall: 0.8198 - auc: 0.9758 - val_loss: 0.6315 - val_categorical_accuracy: 0.7897 - val_precision: 0.8155 - val_recall: 0.7651 - val_auc: 0.9551\n",
      "Epoch 87/100\n",
      "1463/1463 [==============================] - 274s 187ms/step - loss: 0.4287 - categorical_accuracy: 0.8474 - precision: 0.8760 - recall: 0.8203 - auc: 0.9759 - val_loss: 0.6155 - val_categorical_accuracy: 0.7996 - val_precision: 0.8249 - val_recall: 0.7789 - val_auc: 0.9577\n",
      "Epoch 88/100\n",
      "1463/1463 [==============================] - 277s 189ms/step - loss: 0.4267 - categorical_accuracy: 0.8475 - precision: 0.8750 - recall: 0.8209 - auc: 0.9760 - val_loss: 0.6302 - val_categorical_accuracy: 0.7948 - val_precision: 0.8197 - val_recall: 0.7730 - val_auc: 0.9561\n",
      "Epoch 89/100\n",
      "1463/1463 [==============================] - 275s 188ms/step - loss: 0.4285 - categorical_accuracy: 0.8484 - precision: 0.8762 - recall: 0.8210 - auc: 0.9758 - val_loss: 0.6447 - val_categorical_accuracy: 0.8000 - val_precision: 0.8237 - val_recall: 0.7774 - val_auc: 0.9550\n",
      "Epoch 90/100\n",
      "1463/1463 [==============================] - 274s 187ms/step - loss: 0.4256 - categorical_accuracy: 0.8489 - precision: 0.8765 - recall: 0.8212 - auc: 0.9761 - val_loss: 0.7814 - val_categorical_accuracy: 0.7590 - val_precision: 0.7807 - val_recall: 0.7385 - val_auc: 0.9410\n",
      "Epoch 91/100\n",
      "1463/1463 [==============================] - 274s 188ms/step - loss: 0.4274 - categorical_accuracy: 0.8481 - precision: 0.8760 - recall: 0.8205 - auc: 0.9761 - val_loss: 0.8546 - val_categorical_accuracy: 0.7457 - val_precision: 0.7661 - val_recall: 0.7278 - val_auc: 0.9333\n",
      "Epoch 92/100\n",
      "1463/1463 [==============================] - 274s 187ms/step - loss: 0.4248 - categorical_accuracy: 0.8495 - precision: 0.8773 - recall: 0.8219 - auc: 0.9762 - val_loss: 0.7417 - val_categorical_accuracy: 0.7504 - val_precision: 0.7814 - val_recall: 0.7198 - val_auc: 0.9401\n",
      "Epoch 93/100\n",
      "1463/1463 [==============================] - 275s 188ms/step - loss: 0.4269 - categorical_accuracy: 0.8494 - precision: 0.8758 - recall: 0.8217 - auc: 0.9760 - val_loss: 0.6653 - val_categorical_accuracy: 0.7858 - val_precision: 0.8136 - val_recall: 0.7602 - val_auc: 0.9525\n",
      "Epoch 94/100\n",
      "1463/1463 [==============================] - 275s 188ms/step - loss: 0.4270 - categorical_accuracy: 0.8482 - precision: 0.8764 - recall: 0.8215 - auc: 0.9760 - val_loss: 0.7228 - val_categorical_accuracy: 0.7722 - val_precision: 0.7961 - val_recall: 0.7531 - val_auc: 0.9477\n",
      "Epoch 95/100\n",
      "1463/1463 [==============================] - 275s 188ms/step - loss: 0.4223 - categorical_accuracy: 0.8502 - precision: 0.8769 - recall: 0.8227 - auc: 0.9764 - val_loss: 0.6514 - val_categorical_accuracy: 0.7808 - val_precision: 0.8123 - val_recall: 0.7502 - val_auc: 0.9520\n",
      "Epoch 96/100\n",
      "1463/1463 [==============================] - 275s 188ms/step - loss: 0.4223 - categorical_accuracy: 0.8509 - precision: 0.8780 - recall: 0.8240 - auc: 0.9766 - val_loss: 0.6445 - val_categorical_accuracy: 0.7953 - val_precision: 0.8162 - val_recall: 0.7766 - val_auc: 0.9553\n",
      "Epoch 97/100\n",
      "1463/1463 [==============================] - 275s 188ms/step - loss: 0.4237 - categorical_accuracy: 0.8492 - precision: 0.8764 - recall: 0.8217 - auc: 0.9765 - val_loss: 0.7627 - val_categorical_accuracy: 0.7558 - val_precision: 0.7781 - val_recall: 0.7342 - val_auc: 0.9419\n",
      "Epoch 98/100\n",
      "1463/1463 [==============================] - 275s 188ms/step - loss: 0.4233 - categorical_accuracy: 0.8493 - precision: 0.8767 - recall: 0.8218 - auc: 0.9764 - val_loss: 0.6959 - val_categorical_accuracy: 0.7775 - val_precision: 0.8077 - val_recall: 0.7543 - val_auc: 0.9497\n",
      "Epoch 99/100\n",
      "1463/1463 [==============================] - 275s 188ms/step - loss: 0.4229 - categorical_accuracy: 0.8499 - precision: 0.8774 - recall: 0.8231 - auc: 0.9765 - val_loss: 0.6601 - val_categorical_accuracy: 0.7996 - val_precision: 0.8221 - val_recall: 0.7796 - val_auc: 0.9548\n",
      "Epoch 100/100\n",
      "1463/1463 [==============================] - 275s 188ms/step - loss: 0.4227 - categorical_accuracy: 0.8505 - precision: 0.8770 - recall: 0.8235 - auc: 0.9764 - val_loss: 0.7652 - val_categorical_accuracy: 0.7606 - val_precision: 0.7869 - val_recall: 0.7378 - val_auc: 0.9424\n"
     ]
    }
   ],
   "source": [
    "model_train = model.fit(train_dataset, \n",
    "                        epochs = 100,\n",
    "                        validation_data = val_dataset,\n",
    "                        )#,callbacks = [lr_schedule]callbacks = [early_stop],callbacks = [cp_callback]"
   ]
  },
  {
   "cell_type": "code",
   "execution_count": null,
   "metadata": {
    "id": "kpPo_Uu04U1r"
   },
   "outputs": [],
   "source": [
    "# model.save(\"Wavelet_Multiclass\")\n",
    "model.save_weights(\"Wavelet_Multiclass_weights\")"
   ]
  },
  {
   "cell_type": "markdown",
   "metadata": {
    "id": "oi2WwzRYnJyl"
   },
   "source": [
    "# Plot Accuracy vs Loss (Train and Valid)"
   ]
  },
  {
   "cell_type": "code",
   "execution_count": 20,
   "metadata": {
    "colab": {
     "base_uri": "https://localhost:8080/",
     "height": 446
    },
    "executionInfo": {
     "elapsed": 2544,
     "status": "ok",
     "timestamp": 1603227615552,
     "user": {
      "displayName": "Phuc Tran Hoc",
      "photoUrl": "https://lh3.googleusercontent.com/a-/AOh14Gga3JraUmYmenJue_tGhrYU9zwUg3lPC8A-4OxS=s64",
      "userId": "06605604600625108548"
     },
     "user_tz": -120
    },
    "id": "9F-fFNrso8gM",
    "outputId": "96da410a-9296-45c3-d6bd-ae7eeef3ec45"
   },
   "outputs": [
    {
     "data": {
      "image/png": "[encoded data removed]",
      "text/plain": [
       "<Figure size 1440x504 with 2 Axes>"
      ]
     },
     "metadata": {
      "needs_background": "light",
      "tags": []
     },
     "output_type": "display_data"
    }
   ],
   "source": [
    "plt.figure(figsize =(20,7))\n",
    "\n",
    "plt.subplot(1,2,1)\n",
    "plt.plot(model_train.epoch, model_train.history[\"loss\"], label=\"Train\")\n",
    "plt.plot(model_train.epoch, model_train.history[\"val_loss\"], label=\"Valid\")\n",
    "plt.xlabel(\"Epoch\")\n",
    "plt.ylabel(\"Loss\")\n",
    "plt.legend()\n",
    "\n",
    "plt.subplot(1,2,2)\n",
    "plt.plot(model_train.epoch, model_train.history[\"categorical_accuracy\"], label=\"Train\")\n",
    "plt.plot(model_train.epoch, model_train.history[\"val_categorical_accuracy\"], label=\"Valid\")\n",
    "plt.ylim([0,1.0])\n",
    "plt.xlabel(\"Epoch\")\n",
    "plt.ylabel(\"Accuracy\")\n",
    "plt.legend()\n",
    "plt.show()"
   ]
  },
  {
   "cell_type": "markdown",
   "metadata": {
    "id": "htqRjwO1nNwg"
   },
   "source": [
    "# Test the model"
   ]
  },
  {
   "cell_type": "code",
   "execution_count": 17,
   "metadata": {
    "colab": {
     "base_uri": "https://localhost:8080/",
     "height": 119
    },
    "executionInfo": {
     "elapsed": 72537,
     "status": "ok",
     "timestamp": 1603227610112,
     "user": {
      "displayName": "Phuc Tran Hoc",
      "photoUrl": "https://lh3.googleusercontent.com/a-/AOh14Gga3JraUmYmenJue_tGhrYU9zwUg3lPC8A-4OxS=s64",
      "userId": "06605604600625108548"
     },
     "user_tz": -120
    },
    "id": "tjyuSDO3pUvZ",
    "outputId": "708b55a9-9f0e-4307-8ea7-80360e4cade3"
   },
   "outputs": [
    {
     "name": "stdout",
     "output_type": "stream",
     "text": [
      "183/183 [==============================] - 30s 166ms/step - loss: 0.7473 - categorical_accuracy: 0.7652 - precision: 0.7906 - recall: 0.7430 - auc: 0.9441\n"
     ]
    },
    {
     "data": {
      "text/plain": [
       "[0.7473293542861938,\n",
       " 0.7652345299720764,\n",
       " 0.7906193137168884,\n",
       " 0.7429818511009216,\n",
       " 0.9440932869911194]"
      ]
     },
     "execution_count": 17,
     "metadata": {
      "tags": []
     },
     "output_type": "execute_result"
    }
   ],
   "source": [
    "test_eval = model.predict(test_X, batch_size = 64)\n",
    "model.evaluate(test_dataset, batch_size= 64, verbose = 1)"
   ]
  },
  {
   "cell_type": "markdown",
   "metadata": {
    "id": "m7PEIAlxnPfn"
   },
   "source": [
    "# Plot classification report"
   ]
  },
  {
   "cell_type": "code",
   "execution_count": 18,
   "metadata": {
    "colab": {
     "base_uri": "https://localhost:8080/",
     "height": 221
    },
    "executionInfo": {
     "elapsed": 71855,
     "status": "ok",
     "timestamp": 1603227610113,
     "user": {
      "displayName": "Phuc Tran Hoc",
      "photoUrl": "https://lh3.googleusercontent.com/a-/AOh14Gga3JraUmYmenJue_tGhrYU9zwUg3lPC8A-4OxS=s64",
      "userId": "06605604600625108548"
     },
     "user_tz": -120
    },
    "id": "XPuEp7wYpWsk",
    "outputId": "33f4b06b-41c1-42e6-8e8b-480e24c18083"
   },
   "outputs": [
    {
     "name": "stdout",
     "output_type": "stream",
     "text": [
      "              precision    recall  f1-score   support\n",
      "\n",
      "       HUMAN       0.76      0.96      0.85      4761\n",
      "     BICYCLE       0.62      0.87      0.73      1106\n",
      "      PILLAR       0.75      0.51      0.61      1683\n",
      "        WALL       0.60      0.53      0.56      1297\n",
      "         CAR       0.91      0.61      0.73      2837\n",
      "\n",
      "    accuracy                           0.75     11684\n",
      "   macro avg       0.73      0.70      0.69     11684\n",
      "weighted avg       0.77      0.75      0.74     11684\n",
      "\n"
     ]
    }
   ],
   "source": [
    "from sklearn.metrics import classification_report\n",
    "pred = np.round(test_eval, 0)\n",
    "label = [\"HUMAN\",\"BICYCLE\",\"PILLAR\", \"WALL\",\"CAR\"]\n",
    "target = [\"Class {}\".format(i) for i in range(5)]\n",
    "classification_metrics = classification_report(test_y.argmax(1) ,pred.argmax(1), target_names = label)\n",
    "print(classification_metrics)"
   ]
  },
  {
   "cell_type": "code",
   "execution_count": 19,
   "metadata": {
    "colab": {
     "base_uri": "https://localhost:8080/",
     "height": 861
    },
    "executionInfo": {
     "elapsed": 72277,
     "status": "ok",
     "timestamp": 1603227612996,
     "user": {
      "displayName": "Phuc Tran Hoc",
      "photoUrl": "https://lh3.googleusercontent.com/a-/AOh14Gga3JraUmYmenJue_tGhrYU9zwUg3lPC8A-4OxS=s64",
      "userId": "06605604600625108548"
     },
     "user_tz": -120
    },
    "id": "2I5l4cKjpixu",
    "outputId": "6b9afce9-961f-4234-e4f8-bf5ce2528054"
   },
   "outputs": [
    {
     "name": "stderr",
     "output_type": "stream",
     "text": [
      "/gdrive/My Drive/Thesis_code/utils/confusion_matrix_pretty_print.py:165: MatplotlibDeprecationWarning: \n",
      "The tick1On function was deprecated in Matplotlib 3.1 and will be removed in 3.3. Use Tick.tick1line.set_visible instead.\n",
      "  t.tick1On = False\n",
      "/gdrive/My Drive/Thesis_code/utils/confusion_matrix_pretty_print.py:166: MatplotlibDeprecationWarning: \n",
      "The tick2On function was deprecated in Matplotlib 3.1 and will be removed in 3.3. Use Tick.tick2line.set_visible instead.\n",
      "  t.tick2On = False\n",
      "/gdrive/My Drive/Thesis_code/utils/confusion_matrix_pretty_print.py:168: MatplotlibDeprecationWarning: \n",
      "The tick1On function was deprecated in Matplotlib 3.1 and will be removed in 3.3. Use Tick.tick1line.set_visible instead.\n",
      "  t.tick1On = False\n",
      "/gdrive/My Drive/Thesis_code/utils/confusion_matrix_pretty_print.py:169: MatplotlibDeprecationWarning: \n",
      "The tick2On function was deprecated in Matplotlib 3.1 and will be removed in 3.3. Use Tick.tick2line.set_visible instead.\n",
      "  t.tick2On = False\n"
     ]
    },
    {
     "data": {
      "image/png": "[encoded data removed]",
      "text/plain": [
       "<Figure size 648x648 with 1 Axes>"
      ]
     },
     "metadata": {
      "needs_background": "light",
      "tags": []
     },
     "output_type": "display_data"
    }
   ],
   "source": [
    "from utils.confusion_matrix_pretty_print import plot_confusion_matrix_from_data\n",
    "\n",
    "columns = [\"HUMAN\",\"BICYCLE\",\"PILLAR\",\"WALL\",\"CAR\"]\n",
    "# columns = []\n",
    "annot = True\n",
    "cmap = 'Oranges'\n",
    "fmt = '.2f'\n",
    "lw = 0.5\n",
    "cbar = False\n",
    "show_null_values = 2\n",
    "pred_val_axis = 'y'\n",
    "#size::\n",
    "fz = 12\n",
    "figsize = [9,9]\n",
    "if(len(test_y) > 10):\n",
    "    fz=9; figsize=[14,14]\n",
    "plot_confusion_matrix_from_data(test_y.argmax(axis=1), pred.argmax(axis=1), columns,annot, cmap, fmt, fz, lw, cbar, figsize, show_null_values, pred_val_axis)"
   ]
  }
 ],
 "metadata": {
  "accelerator": "GPU",
  "colab": {
   "collapsed_sections": [
    "H1B18NnYlE4D"
   ],
   "name": "Wavelet-Scattering-Transform_Multi.ipynb",
   "provenance": []
  },
  "kernelspec": {
   "display_name": "Python 3",
   "language": "python",
   "name": "python3"
  },
  "language_info": {
   "codemirror_mode": {
    "name": "ipython",
    "version": 3
   },
   "file_extension": ".py",
   "mimetype": "text/x-python",
   "name": "python",
   "nbconvert_exporter": "python",
   "pygments_lexer": "ipython3",
   "version": "3.6.11"
  }
 },
 "nbformat": 4,
 "nbformat_minor": 1
}
