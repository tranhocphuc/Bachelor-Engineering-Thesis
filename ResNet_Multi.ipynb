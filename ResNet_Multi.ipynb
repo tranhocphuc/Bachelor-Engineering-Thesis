{
 "cells": [
  {
   "cell_type": "code",
   "execution_count": null,
   "metadata": {
    "colab": {
     "base_uri": "https://localhost:8080/",
     "height": 51
    },
    "executionInfo": {
     "elapsed": 18329,
     "status": "ok",
     "timestamp": 1603194595473,
     "user": {
      "displayName": "Phuc Tran Hoc",
      "photoUrl": "https://lh3.googleusercontent.com/a-/AOh14Gga3JraUmYmenJue_tGhrYU9zwUg3lPC8A-4OxS=s64",
      "userId": "06605604600625108548"
     },
     "user_tz": -120
    },
    "id": "YRljGHrNj1f0",
    "outputId": "001247ca-0cf1-472c-f4b1-37697529f618"
   },
   "outputs": [],
   "source": [
    "from google.colab import drive\n",
    "drive.mount('/gdrive')\n",
    "%cd /gdrive/My Drive/Thesis_code"
   ]
  },
  {
   "cell_type": "code",
   "execution_count": null,
   "metadata": {
    "executionInfo": {
     "elapsed": 20076,
     "status": "ok",
     "timestamp": 1603194598401,
     "user": {
      "displayName": "Phuc Tran Hoc",
      "photoUrl": "https://lh3.googleusercontent.com/a-/AOh14Gga3JraUmYmenJue_tGhrYU9zwUg3lPC8A-4OxS=s64",
      "userId": "06605604600625108548"
     },
     "user_tz": -120
    },
    "id": "Zi-RgBIT1CnO"
   },
   "outputs": [],
   "source": [
    "import tensorflow as tf\n",
    "from sklearn.model_selection import train_test_split\n",
    "import numpy as np \n",
    "import pandas as pd \n",
    "import matplotlib.pyplot as plt\n",
    "from sklearn import preprocessing \n",
    "from sklearn.metrics import classification_report\n",
    "from sklearn.metrics import accuracy_score, confusion_matrix\n",
    "from sklearn.metrics import precision_score, recall_score, f1_score\n",
    "from utils import file_helper, feature_extraction"
   ]
  },
  {
   "cell_type": "markdown",
   "metadata": {
    "id": "IFC9pkgxTKuz"
   },
   "source": [
    "# New Data Pipeline"
   ]
  },
  {
   "cell_type": "code",
   "execution_count": null,
   "metadata": {
    "executionInfo": {
     "elapsed": 114968,
     "status": "ok",
     "timestamp": 1603194713030,
     "user": {
      "displayName": "Phuc Tran Hoc",
      "photoUrl": "https://lh3.googleusercontent.com/a-/AOh14Gga3JraUmYmenJue_tGhrYU9zwUg3lPC8A-4OxS=s64",
      "userId": "06605604600625108548"
     },
     "user_tz": -120
    },
    "id": "jBzaY0GiTN3Z"
   },
   "outputs": [],
   "source": [
    "train_X = np.load('Dataset/split_data/Multi-Class Split/X_train.npy')\n",
    "train_y = np.load('Dataset/split_data/Multi-Class Split/y_train.npy')\n",
    "val_X = np.load('Dataset/split_data/Multi-Class Split/X_val.npy')\n",
    "val_y = np.load('Dataset/split_data/Multi-Class Split/y_val.npy')\n",
    "test_X = np.load('Dataset/split_data/Multi-Class Split/X_test.npy')\n",
    "test_y = np.load('Dataset/split_data/Multi-Class Split/y_test.npy')\n",
    "\n",
    "# Note: \n",
    "# Class     Label     One-hot Encoding\n",
    "# HUMAN       0     [1, 0, 0, 0 ,0]\n",
    "# BICYCLE     1     [0, 1, 0, 0, 0]\n",
    "# PILLAR      2     [0, 0, 1, 0, 0]\n",
    "# WALL        3     [0, 0, 0, 1, 0]\n",
    "# CAR         4     [0, 0, 0, 0, 1]"
   ]
  },
  {
   "cell_type": "code",
   "execution_count": null,
   "metadata": {
    "executionInfo": {
     "elapsed": 121602,
     "status": "ok",
     "timestamp": 1603194721166,
     "user": {
      "displayName": "Phuc Tran Hoc",
      "photoUrl": "https://lh3.googleusercontent.com/a-/AOh14Gga3JraUmYmenJue_tGhrYU9zwUg3lPC8A-4OxS=s64",
      "userId": "06605604600625108548"
     },
     "user_tz": -120
    },
    "id": "sQ0zVXxsTONs"
   },
   "outputs": [],
   "source": [
    "BATCH_SIZE = 64\n",
    "SHUFFLE_BUFFER_SIZE = 100\n",
    "\n",
    "train_dataset = tf.data.Dataset.from_tensor_slices((train_X, train_y)).shuffle(SHUFFLE_BUFFER_SIZE).batch(BATCH_SIZE)\n",
    "val_dataset = tf.data.Dataset.from_tensor_slices((val_X, val_y)).shuffle(SHUFFLE_BUFFER_SIZE).batch(BATCH_SIZE)\n",
    "test_dataset = tf.data.Dataset.from_tensor_slices((test_X, test_y)).batch(BATCH_SIZE)"
   ]
  },
  {
   "cell_type": "markdown",
   "metadata": {
    "id": "TlKL7zPHS6J_"
   },
   "source": [
    "# ResNet Multi-class model"
   ]
  },
  {
   "cell_type": "code",
   "execution_count": null,
   "metadata": {
    "executionInfo": {
     "elapsed": 118983,
     "status": "ok",
     "timestamp": 1603194721168,
     "user": {
      "displayName": "Phuc Tran Hoc",
      "photoUrl": "https://lh3.googleusercontent.com/a-/AOh14Gga3JraUmYmenJue_tGhrYU9zwUg3lPC8A-4OxS=s64",
      "userId": "06605604600625108548"
     },
     "user_tz": -120
    },
    "id": "Xx3_T1PM2h9_"
   },
   "outputs": [],
   "source": [
    "METRICS = [\n",
    "\n",
    "      tf.keras.metrics.CategoricalAccuracy(name='accuracy'),\n",
    "      tf.keras.metrics.Precision(name='precision'),\n",
    "      tf.keras.metrics.Recall(name='recall'),\n",
    "      tf.keras.metrics.AUC(name='auc'),\n",
    "\n",
    "]"
   ]
  },
  {
   "cell_type": "code",
   "execution_count": null,
   "metadata": {
    "executionInfo": {
     "elapsed": 837,
     "status": "ok",
     "timestamp": 1603195158575,
     "user": {
      "displayName": "Phuc Tran Hoc",
      "photoUrl": "https://lh3.googleusercontent.com/a-/AOh14Gga3JraUmYmenJue_tGhrYU9zwUg3lPC8A-4OxS=s64",
      "userId": "06605604600625108548"
     },
     "user_tz": -120
    },
    "id": "FsWEot9s2azb"
   },
   "outputs": [],
   "source": [
    "import tensorflow.keras as keras\n",
    "tf.keras.backend.clear_session()\n",
    "def resnet(nb_classes): \n",
    "    n_feature_maps = 64\n",
    "    input_shape = (1,5704)\n",
    "    input_layer = keras.layers.Input(input_shape)\n",
    "\n",
    "    #BLOCK 1 \n",
    "    conv_x = keras.layers.Conv1D(filters = n_feature_maps, kernel_size = 7, padding = 'same')(input_layer)\n",
    "    conv_x = keras.layers.BatchNormalization()(conv_x)\n",
    "    conv_x = keras.layers.Activation('relu')(conv_x)\n",
    "\n",
    "    conv_y = keras.layers.Conv1D(filters = n_feature_maps, kernel_size = 5, padding = 'same')(conv_x)\n",
    "    conv_y = keras.layers.BatchNormalization()(conv_y)\n",
    "    conv_y = keras.layers.Activation('relu')(conv_y)\n",
    "\n",
    "    conv_z = keras.layers.Conv1D(filters = n_feature_maps, kernel_size = 3, padding = 'same')(conv_y)\n",
    "    conv_z = keras.layers.BatchNormalization()(conv_z)\n",
    "\n",
    "    #expand channels for the sum\n",
    "    shortcut_y = keras.layers.Conv1D(filters = n_feature_maps, kernel_size = 1, padding='same')(input_layer)\n",
    "    shortcut_y = keras.layers.BatchNormalization()(shortcut_y)\n",
    "\n",
    "    output_block_1 = keras.layers.add([shortcut_y, conv_z])\n",
    "    output_block_1 = keras.layers.Activation('relu')(output_block_1)\n",
    "\n",
    "    #BLOCK 2\n",
    "    conv_x = keras.layers.Conv1D(filters = n_feature_maps * 2, kernel_size = 7, padding='same')(output_block_1)\n",
    "    conv_x = keras.layers.BatchNormalization()(conv_x)\n",
    "    conv_x = keras.layers.Activation('relu')(conv_x)\n",
    "\n",
    "    conv_y = keras.layers.Conv1D(filters = n_feature_maps * 2, kernel_size = 5, padding = 'same')(conv_x)\n",
    "    conv_y = keras.layers.BatchNormalization()(conv_y)\n",
    "    conv_y = keras.layers.Activation('relu')(conv_y)\n",
    "\n",
    "    conv_z = keras.layers.Conv1D(filters = n_feature_maps * 2, kernel_size = 3, padding='same')(conv_y)\n",
    "    conv_z = keras.layers.BatchNormalization()(conv_z)\n",
    "\n",
    "    #Expand Channels for sum\n",
    "    shortcut_y = keras.layers.Conv1D(filters = n_feature_maps *2, kernel_size = 1, padding = 'same')(output_block_1)\n",
    "    shortcut_y = keras.layers.BatchNormalization()(shortcut_y)\n",
    "\n",
    "    output_block_2 = keras.layers.add([shortcut_y, conv_z])\n",
    "    output_block_2 = keras.layers.Activation('relu')(output_block_2)\n",
    "\n",
    "    #BLOCK 3\n",
    "    conv_x = keras.layers.Conv1D(filters = n_feature_maps * 2, kernel_size = 7, padding = 'same')(output_block_2)\n",
    "    conv_x = keras.layers.BatchNormalization()(conv_x)\n",
    "    conv_x = keras.layers.Activation('relu')(conv_x)\n",
    "\n",
    "    conv_y = keras.layers.Conv1D(filters = n_feature_maps * 2, kernel_size = 5, padding = 'same')(conv_x)\n",
    "    conv_y = keras.layers.BatchNormalization()(conv_y)\n",
    "    conv_y = keras.layers.Activation('relu')(conv_y)\n",
    "\n",
    "    conv_z = keras.layers.Conv1D(filters = n_feature_maps * 2, kernel_size = 3, padding = 'same')(conv_y)\n",
    "    conv_z = keras.layers.BatchNormalization()(conv_z)\n",
    "\n",
    "    #No need to expand channels anmr, cause now they are equal \n",
    "    shortcut_y = keras.layers.BatchNormalization()(output_block_2)\n",
    "    output_block_3 = keras.layers.add([shortcut_y, conv_z])\n",
    "    output_block_3 = keras.layers.Activation('relu')(output_block_3)\n",
    "\n",
    "    #FINAL \n",
    "\n",
    "    gap_layer = keras.layers.GlobalAveragePooling1D()(output_block_3)\n",
    "\n",
    "    output_layer = keras.layers.Dense(nb_classes, activation='softmax')(gap_layer)\n",
    "\n",
    "    return keras.models.Model(inputs = input_layer, outputs = output_layer)"
   ]
  },
  {
   "cell_type": "code",
   "execution_count": null,
   "metadata": {
    "executionInfo": {
     "elapsed": 828,
     "status": "ok",
     "timestamp": 1603195159175,
     "user": {
      "displayName": "Phuc Tran Hoc",
      "photoUrl": "https://lh3.googleusercontent.com/a-/AOh14Gga3JraUmYmenJue_tGhrYU9zwUg3lPC8A-4OxS=s64",
      "userId": "06605604600625108548"
     },
     "user_tz": -120
    },
    "id": "PNw9cDl12k2D"
   },
   "outputs": [],
   "source": [
    "model = resnet(5)\n",
    "# model.summary()"
   ]
  },
  {
   "cell_type": "markdown",
   "metadata": {
    "executionInfo": {
     "elapsed": 540,
     "status": "ok",
     "timestamp": 1603195160288,
     "user": {
      "displayName": "Phuc Tran Hoc",
      "photoUrl": "https://lh3.googleusercontent.com/a-/AOh14Gga3JraUmYmenJue_tGhrYU9zwUg3lPC8A-4OxS=s64",
      "userId": "06605604600625108548"
     },
     "user_tz": -120
    },
    "id": "uIfnkUkB2sEz"
   },
   "source": [
    "# Optimizers, Callbacks, Early Stop, Reduce LR"
   ]
  },
  {
   "cell_type": "code",
   "execution_count": null,
   "metadata": {
    "executionInfo": {
     "elapsed": 373,
     "status": "ok",
     "timestamp": 1603195160870,
     "user": {
      "displayName": "Phuc Tran Hoc",
      "photoUrl": "https://lh3.googleusercontent.com/a-/AOh14Gga3JraUmYmenJue_tGhrYU9zwUg3lPC8A-4OxS=s64",
      "userId": "06605604600625108548"
     },
     "user_tz": -120
    },
    "id": "tSPstj-e2w_q"
   },
   "outputs": [],
   "source": [
    "from tensorflow.keras.optimizers import RMSprop, Adam\n",
    "\n",
    "optimizer_R = tf.keras.optimizers.RMSprop(learning_rate = 1e-2,momentum=0.9)\n",
    "optimizer_A = tf.keras.optimizers.Adam(learning_rate = 1e-2)\n",
    "\n",
    "model.compile(optimizer = optimizer_A , loss = tf.keras.losses.CategoricalCrossentropy(), metrics =[METRICS])\n"
   ]
  },
  {
   "cell_type": "code",
   "execution_count": null,
   "metadata": {
    "colab": {
     "base_uri": "https://localhost:8080/",
     "height": 34
    },
    "executionInfo": {
     "elapsed": 983,
     "status": "ok",
     "timestamp": 1603195161977,
     "user": {
      "displayName": "Phuc Tran Hoc",
      "photoUrl": "https://lh3.googleusercontent.com/a-/AOh14Gga3JraUmYmenJue_tGhrYU9zwUg3lPC8A-4OxS=s64",
      "userId": "06605604600625108548"
     },
     "user_tz": -120
    },
    "id": "8LagS4mD3BZ0",
    "outputId": "11ef162b-31ea-46b4-feba-3de5542280fa"
   },
   "outputs": [],
   "source": [
    "import os \n",
    "from tensorflow.keras.callbacks import EarlyStopping\n",
    "\n",
    "#Early stop to avoid overfitting\n",
    "early_stop = EarlyStopping(patience = 5, verbose = 1)\n",
    "\n",
    "#Provides unique names for checkpoints and adjust the checkpointing frequency\n",
    "checkpoint_path = \"ResNet_Multi/cp-{epoch:04d}.ckpt\"\n",
    "checkpoint_dir = os.path.dirname(checkpoint_path)\n",
    "\n",
    "#Create a call back that save the model's weights\n",
    "cp_callback = tf.keras.callbacks.ModelCheckpoint(filepath = checkpoint_path,\n",
    "                                                 save_weights_only = True,\n",
    "                                                 verbose = 1,\n",
    "                                                 period = 10)\n",
    "\n",
    "reduce_lr = tf.keras.callbacks.ReduceLROnPlateau(monitor='val_loss', factor=0.1, patience=10, verbose= 1, min_lr=1e-9)"
   ]
  },
  {
   "cell_type": "markdown",
   "metadata": {},
   "source": [
    "# Train"
   ]
  },
  {
   "cell_type": "code",
   "execution_count": null,
   "metadata": {
    "colab": {
     "base_uri": "https://localhost:8080/",
     "height": 1000
    },
    "executionInfo": {
     "elapsed": 2876290,
     "status": "ok",
     "timestamp": 1603198038640,
     "user": {
      "displayName": "Phuc Tran Hoc",
      "photoUrl": "https://lh3.googleusercontent.com/a-/AOh14Gga3JraUmYmenJue_tGhrYU9zwUg3lPC8A-4OxS=s64",
      "userId": "06605604600625108548"
     },
     "user_tz": -120
    },
    "id": "15dDRq1o3LZj",
    "outputId": "fa2b0a1c-0560-4d34-8afc-0c827bbaa4ef"
   },
   "outputs": [],
   "source": [
    "model_train = model.fit(train_dataset, \n",
    "                        epochs = 100,\n",
    "                        validation_data = val_dataset,\n",
    "                        callbacks=[reduce_lr,cp_callback]\n",
    "                        )#,callbacks = [lr_schedule]callbacks = [early_stop],callbacks = [cp_callback, reduce_lr]"
   ]
  },
  {
   "cell_type": "code",
   "execution_count": null,
   "metadata": {
    "executionInfo": {
     "elapsed": 2876014,
     "status": "ok",
     "timestamp": 1603198039830,
     "user": {
      "displayName": "Phuc Tran Hoc",
      "photoUrl": "https://lh3.googleusercontent.com/a-/AOh14Gga3JraUmYmenJue_tGhrYU9zwUg3lPC8A-4OxS=s64",
      "userId": "06605604600625108548"
     },
     "user_tz": -120
    },
    "id": "CK7ZxK-g3PAZ"
   },
   "outputs": [],
   "source": [
    "model.save(\"ResNet_Multiclass_100epochRMS.h5\")"
   ]
  },
  {
   "cell_type": "markdown",
   "metadata": {
    "id": "tCmOyd47S_on"
   },
   "source": [
    "# Plot Accuracy vs Loss (Train and Valid)\n"
   ]
  },
  {
   "cell_type": "code",
   "execution_count": null,
   "metadata": {
    "colab": {
     "base_uri": "https://localhost:8080/",
     "height": 446
    },
    "executionInfo": {
     "elapsed": 2876259,
     "status": "ok",
     "timestamp": 1603198040663,
     "user": {
      "displayName": "Phuc Tran Hoc",
      "photoUrl": "https://lh3.googleusercontent.com/a-/AOh14Gga3JraUmYmenJue_tGhrYU9zwUg3lPC8A-4OxS=s64",
      "userId": "06605604600625108548"
     },
     "user_tz": -120
    },
    "id": "XKxE7RPH3kir",
    "outputId": "cb74ef65-8632-4bfb-da1b-8b245cd8bf1d"
   },
   "outputs": [],
   "source": [
    "plt.figure(figsize =(20,7))\n",
    "\n",
    "plt.subplot(1,2,1)\n",
    "plt.plot(model_train.epoch, model_train.history[\"loss\"], label=\"Train\")\n",
    "plt.plot(model_train.epoch, model_train.history[\"val_loss\"], label=\"Valid\")\n",
    "plt.xlabel(\"Epoch\")\n",
    "plt.ylabel(\"Loss\")\n",
    "plt.legend()\n",
    "\n",
    "plt.subplot(1,2,2)\n",
    "plt.plot(model_train.epoch, model_train.history[\"accuracy\"], label=\"Train\")\n",
    "plt.plot(model_train.epoch, model_train.history[\"val_accuracy\"], label=\"Valid\")\n",
    "plt.ylim([0,1.0])\n",
    "plt.xlabel(\"Epoch\")\n",
    "plt.ylabel(\"Accuracy\")\n",
    "plt.legend()\n",
    "plt.show()"
   ]
  },
  {
   "cell_type": "markdown",
   "metadata": {
    "id": "Tepnguw_TEaf"
   },
   "source": [
    "# Test model"
   ]
  },
  {
   "cell_type": "code",
   "execution_count": null,
   "metadata": {
    "colab": {
     "base_uri": "https://localhost:8080/",
     "height": 119
    },
    "executionInfo": {
     "elapsed": 2878494,
     "status": "ok",
     "timestamp": 1603198043552,
     "user": {
      "displayName": "Phuc Tran Hoc",
      "photoUrl": "https://lh3.googleusercontent.com/a-/AOh14Gga3JraUmYmenJue_tGhrYU9zwUg3lPC8A-4OxS=s64",
      "userId": "06605604600625108548"
     },
     "user_tz": -120
    },
    "id": "qCwDt0Qr3msn",
    "outputId": "0581744d-c863-4889-b399-0981a1d6067e"
   },
   "outputs": [],
   "source": [
    "test_eval = model.predict(test_X, batch_size = 64)\n",
    "model.evaluate(test_dataset, batch_size= 64, verbose = 1)\n"
   ]
  },
  {
   "cell_type": "markdown",
   "metadata": {
    "id": "fidrRc1yTF-r"
   },
   "source": [
    "# Classification Report"
   ]
  },
  {
   "cell_type": "code",
   "execution_count": null,
   "metadata": {
    "colab": {
     "base_uri": "https://localhost:8080/",
     "height": 221
    },
    "executionInfo": {
     "elapsed": 2877596,
     "status": "ok",
     "timestamp": 1603198043553,
     "user": {
      "displayName": "Phuc Tran Hoc",
      "photoUrl": "https://lh3.googleusercontent.com/a-/AOh14Gga3JraUmYmenJue_tGhrYU9zwUg3lPC8A-4OxS=s64",
      "userId": "06605604600625108548"
     },
     "user_tz": -120
    },
    "id": "dbd8j2vD3ost",
    "outputId": "ca449c75-9c4d-4a73-8aed-f3da23ebed79"
   },
   "outputs": [],
   "source": [
    "from sklearn.metrics import classification_report\n",
    "pred = np.round(test_eval, 0)\n",
    "label = [\"HUMAN\",\"BICYCLE\",\"PILLAR\", \"WALL\",\"CAR\"]\n",
    "target = [\"Class {}\".format(i) for i in range(5)]\n",
    "classification_metrics = classification_report(test_y.argmax(1) ,pred.argmax(1), target_names = label)\n",
    "# print(test_label)\n",
    "print(classification_metrics)\n"
   ]
  },
  {
   "cell_type": "code",
   "execution_count": null,
   "metadata": {
    "colab": {
     "base_uri": "https://localhost:8080/",
     "height": 861
    },
    "executionInfo": {
     "elapsed": 2878136,
     "status": "ok",
     "timestamp": 1603198044836,
     "user": {
      "displayName": "Phuc Tran Hoc",
      "photoUrl": "https://lh3.googleusercontent.com/a-/AOh14Gga3JraUmYmenJue_tGhrYU9zwUg3lPC8A-4OxS=s64",
      "userId": "06605604600625108548"
     },
     "user_tz": -120
    },
    "id": "BQ8Mzf3S3qg2",
    "outputId": "d9431e48-ef53-4e1f-b8dc-b629b0e348be"
   },
   "outputs": [],
   "source": [
    "from utils.confusion_matrix_pretty_print import plot_confusion_matrix_from_data\n",
    "\n",
    "columns = [\"HUMAN\",\"BICYCLE\",\"PILLAR\",\"WALL\",\"CAR\"]\n",
    "annot = True\n",
    "cmap = 'Oranges'\n",
    "fmt = '.2f'\n",
    "lw = 0.5\n",
    "cbar = False\n",
    "show_null_values = 2\n",
    "pred_val_axis = 'y'\n",
    "#size::\n",
    "fz = 12\n",
    "figsize = [9,9]\n",
    "if(len(test_y) > 10):\n",
    "    fz=9; figsize=[14,14]\n",
    "plot_confusion_matrix_from_data(test_y.argmax(axis=1), pred.argmax(axis=1), columns,annot, cmap, fmt, fz, lw, cbar, figsize, show_null_values, pred_val_axis)"
   ]
  },
  {
   "cell_type": "code",
   "execution_count": null,
   "metadata": {
    "id": "h_Mo8Mpc4N-I"
   },
   "outputs": [],
   "source": []
  }
 ],
 "metadata": {
  "accelerator": "GPU",
  "colab": {
   "collapsed_sections": [
    "XJGcr5uUS3PG"
   ],
   "name": "ResNet_Multi.ipynb",
   "provenance": [],
   "toc_visible": true
  },
  "kernelspec": {
   "display_name": "Python 3",
   "language": "python",
   "name": "python3"
  },
  "language_info": {
   "codemirror_mode": {
    "name": "ipython",
    "version": 3
   },
   "file_extension": ".py",
   "mimetype": "text/x-python",
   "name": "python",
   "nbconvert_exporter": "python",
   "pygments_lexer": "ipython3",
   "version": "3.6.11"
  }
 },
 "nbformat": 4,
 "nbformat_minor": 1
}
