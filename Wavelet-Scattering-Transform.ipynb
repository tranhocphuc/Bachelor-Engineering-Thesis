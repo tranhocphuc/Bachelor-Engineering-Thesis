{
 "cells": [
  {
   "cell_type": "markdown",
   "metadata": {
    "id": "iyfRgW59tPW3"
   },
   "source": [
    "# Install kymatio"
   ]
  },
  {
   "cell_type": "code",
   "execution_count": null,
   "metadata": {
    "colab": {
     "base_uri": "https://localhost:8080/",
     "height": 255
    },
    "executionInfo": {
     "elapsed": 4925,
     "status": "ok",
     "timestamp": 1603216305525,
     "user": {
      "displayName": "Christian Richardson Escobia",
      "photoUrl": "https://lh3.googleusercontent.com/a-/AOh14GjdPT7lC12Lnkl07FaCCF-69aiWOLTRNP49Dmh7=s64",
      "userId": "09982762860506727889"
     },
     "user_tz": -120
    },
    "id": "wDQPa2owuYXU",
    "outputId": "93377fe5-c0d4-4b99-e0cc-4374ef0dcc64"
   },
   "outputs": [],
   "source": [
    "!pip install kymatio"
   ]
  },
  {
   "cell_type": "code",
   "execution_count": null,
   "metadata": {
    "colab": {
     "base_uri": "https://localhost:8080/",
     "height": 34
    },
    "executionInfo": {
     "elapsed": 37696,
     "status": "ok",
     "timestamp": 1603216339566,
     "user": {
      "displayName": "Christian Richardson Escobia",
      "photoUrl": "https://lh3.googleusercontent.com/a-/AOh14GjdPT7lC12Lnkl07FaCCF-69aiWOLTRNP49Dmh7=s64",
      "userId": "09982762860506727889"
     },
     "user_tz": -120
    },
    "id": "mcK2FPGRvLBL",
    "outputId": "99a79e5b-c906-4be1-e8dd-f9c2e64ad825"
   },
   "outputs": [],
   "source": [
    "from google.colab import drive\n",
    "drive.mount('/gdrive')"
   ]
  },
  {
   "cell_type": "code",
   "execution_count": null,
   "metadata": {
    "colab": {
     "base_uri": "https://localhost:8080/",
     "height": 34
    },
    "executionInfo": {
     "elapsed": 1499,
     "status": "ok",
     "timestamp": 1603216355489,
     "user": {
      "displayName": "Christian Richardson Escobia",
      "photoUrl": "https://lh3.googleusercontent.com/a-/AOh14GjdPT7lC12Lnkl07FaCCF-69aiWOLTRNP49Dmh7=s64",
      "userId": "09982762860506727889"
     },
     "user_tz": -120
    },
    "id": "2fXRWYEgvQ38",
    "outputId": "17062082-a8b2-4546-e53c-503685d78cd8"
   },
   "outputs": [],
   "source": [
    "%cd /gdrive/My Drive/phuc_code_file"
   ]
  },
  {
   "cell_type": "code",
   "execution_count": null,
   "metadata": {
    "colab": {
     "base_uri": "https://localhost:8080/",
     "height": 35
    },
    "executionInfo": {
     "elapsed": 2513,
     "status": "ok",
     "timestamp": 1603216358810,
     "user": {
      "displayName": "Christian Richardson Escobia",
      "photoUrl": "https://lh3.googleusercontent.com/a-/AOh14GjdPT7lC12Lnkl07FaCCF-69aiWOLTRNP49Dmh7=s64",
      "userId": "09982762860506727889"
     },
     "user_tz": -120
    },
    "id": "lwFhhoxgvgEd",
    "outputId": "b9e5cb9f-7da1-4c3f-920f-c60f1f726f74"
   },
   "outputs": [],
   "source": [
    "import kymatio\n",
    "kymatio.__version__"
   ]
  },
  {
   "cell_type": "markdown",
   "metadata": {
    "id": "xuctBvNBtSrl"
   },
   "source": [
    "# Import libraries"
   ]
  },
  {
   "cell_type": "code",
   "execution_count": null,
   "metadata": {
    "executionInfo": {
     "elapsed": 8762,
     "status": "ok",
     "timestamp": 1603216366593,
     "user": {
      "displayName": "Christian Richardson Escobia",
      "photoUrl": "https://lh3.googleusercontent.com/a-/AOh14GjdPT7lC12Lnkl07FaCCF-69aiWOLTRNP49Dmh7=s64",
      "userId": "09982762860506727889"
     },
     "user_tz": -120
    },
    "id": "GgvW0hq6vgrM"
   },
   "outputs": [],
   "source": [
    "import tensorflow as tf\n",
    "from sklearn.model_selection import train_test_split\n",
    "import numpy as np \n",
    "import pandas as pd \n",
    "from google.colab import widgets\n",
    "import matplotlib.pyplot as plt\n",
    "from sklearn import preprocessing \n",
    "from sklearn.metrics import classification_report\n",
    "from sklearn.metrics import accuracy_score, confusion_matrix\n",
    "from sklearn.metrics import precision_score, recall_score, f1_score\n",
    "from utils import file_helper, feature_extraction"
   ]
  },
  {
   "cell_type": "markdown",
   "metadata": {
    "id": "yLZRoQaWnYw6"
   },
   "source": [
    "# Data Pipeline"
   ]
  },
  {
   "cell_type": "code",
   "execution_count": null,
   "metadata": {
    "executionInfo": {
     "elapsed": 123287,
     "status": "ok",
     "timestamp": 1603216482623,
     "user": {
      "displayName": "Christian Richardson Escobia",
      "photoUrl": "https://lh3.googleusercontent.com/a-/AOh14GjdPT7lC12Lnkl07FaCCF-69aiWOLTRNP49Dmh7=s64",
      "userId": "09982762860506727889"
     },
     "user_tz": -120
    },
    "id": "_1ippa3Xm76c"
   },
   "outputs": [],
   "source": [
    "train_X = np.load('Dataset/split_data/Binary Split/X_train.npy')\n",
    "train_y = np.load('Dataset/split_data/Binary Split/y_train.npy')\n",
    "val_X = np.load('Dataset/split_data/Binary Split/X_val.npy')\n",
    "val_y = np.load('Dataset/split_data/Binary Split/y_val.npy')\n",
    "test_X = np.load('Dataset/split_data/Binary Split/X_test.npy')\n",
    "test_y = np.load('Dataset/split_data/Binary Split/y_test.npy')\n",
    "\n",
    "#Note:\n",
    "#class       label_encoded\n",
    "# Human:          1\n",
    "# Non_human:      0 "
   ]
  },
  {
   "cell_type": "code",
   "execution_count": null,
   "metadata": {
    "colab": {
     "base_uri": "https://localhost:8080/",
     "height": 34
    },
    "executionInfo": {
     "elapsed": 122077,
     "status": "ok",
     "timestamp": 1603216482625,
     "user": {
      "displayName": "Christian Richardson Escobia",
      "photoUrl": "https://lh3.googleusercontent.com/a-/AOh14GjdPT7lC12Lnkl07FaCCF-69aiWOLTRNP49Dmh7=s64",
      "userId": "09982762860506727889"
     },
     "user_tz": -120
    },
    "id": "uoR5zdGRvR8p",
    "outputId": "6b90ff94-2587-431e-c0ad-2917ddc86f47"
   },
   "outputs": [],
   "source": [
    "# Reshape feature: \n",
    "train_X = np.reshape(train_X,(-1,5704))\n",
    "val_X = np.reshape(val_X,(-1,5704))\n",
    "test_X = np.reshape(test_X,(-1,5704))\n",
    "print(train_X.shape)"
   ]
  },
  {
   "cell_type": "code",
   "execution_count": null,
   "metadata": {
    "executionInfo": {
     "elapsed": 126398,
     "status": "ok",
     "timestamp": 1603216488314,
     "user": {
      "displayName": "Christian Richardson Escobia",
      "photoUrl": "https://lh3.googleusercontent.com/a-/AOh14GjdPT7lC12Lnkl07FaCCF-69aiWOLTRNP49Dmh7=s64",
      "userId": "09982762860506727889"
     },
     "user_tz": -120
    },
    "id": "2O9uTv4-rQDb"
   },
   "outputs": [],
   "source": [
    "BATCH_SIZE = 64\n",
    "SHUFFLE_BUFFER_SIZE = 100\n",
    "\n",
    "train_dataset = tf.data.Dataset.from_tensor_slices((train_X, train_y)).shuffle(SHUFFLE_BUFFER_SIZE).batch(BATCH_SIZE)\n",
    "val_dataset = tf.data.Dataset.from_tensor_slices((val_X, val_y)).shuffle(SHUFFLE_BUFFER_SIZE).batch(BATCH_SIZE)\n",
    "test_dataset = tf.data.Dataset.from_tensor_slices((test_X, test_y)).batch(BATCH_SIZE)\n"
   ]
  },
  {
   "cell_type": "markdown",
   "metadata": {
    "id": "xlyjhcQ3nasd"
   },
   "source": [
    "# Wavelet Scattering Transform Model"
   ]
  },
  {
   "cell_type": "code",
   "execution_count": null,
   "metadata": {
    "executionInfo": {
     "elapsed": 125013,
     "status": "ok",
     "timestamp": 1603216488317,
     "user": {
      "displayName": "Christian Richardson Escobia",
      "photoUrl": "https://lh3.googleusercontent.com/a-/AOh14GjdPT7lC12Lnkl07FaCCF-69aiWOLTRNP49Dmh7=s64",
      "userId": "09982762860506727889"
     },
     "user_tz": -120
    },
    "id": "9Te7kHcz8hzL"
   },
   "outputs": [],
   "source": [
    "J = 8\n",
    "T = 5704\n",
    "Q = 12\n",
    "log_eps = 1e-6"
   ]
  },
  {
   "cell_type": "code",
   "execution_count": null,
   "metadata": {
    "executionInfo": {
     "elapsed": 124292,
     "status": "ok",
     "timestamp": 1603216488319,
     "user": {
      "displayName": "Christian Richardson Escobia",
      "photoUrl": "https://lh3.googleusercontent.com/a-/AOh14GjdPT7lC12Lnkl07FaCCF-69aiWOLTRNP49Dmh7=s64",
      "userId": "09982762860506727889"
     },
     "user_tz": -120
    },
    "id": "LKf3OyduJEKk"
   },
   "outputs": [],
   "source": [
    "from kymatio.keras import Scattering1D\n",
    "from tensorflow.keras import layers\n",
    "tf.keras.backend.clear_session()\n",
    "def Wavelet_Simple(): \n",
    "  input = layers.Input(shape=(T))\n",
    "  x = Scattering1D(J, Q = Q)(input)\n",
    "  x = layers.Lambda(lambda x: x[..., 1:, :])(x)\n",
    "  # To increase discriminability, we take the logarithm of the scattering\n",
    "  # coefficients (after adding a small constant to make sure nothing blows up\n",
    "  # when scattering coefficients are close to zero). This is known as the\n",
    "  # log-scattering transform.\n",
    "  x = layers.Lambda(lambda x: tf.math.log(tf.abs(x) + log_eps))(x)\n",
    "  x = layers.GlobalAveragePooling1D(data_format='channels_first')(x)\n",
    "  x = layers.BatchNormalization(axis=1)(x)\n",
    "  x = layers.Flatten()(x)\n",
    "  x = layers.Dense(100, activation=\"relu\")(x)\n",
    "  output = layers.Dense(1, activation='sigmoid')(x)\n",
    "  return tf.keras.models.Model(input, output)\n",
    "\n"
   ]
  },
  {
   "cell_type": "code",
   "execution_count": null,
   "metadata": {
    "colab": {
     "base_uri": "https://localhost:8080/",
     "height": 357
    },
    "executionInfo": {
     "elapsed": 132963,
     "status": "ok",
     "timestamp": 1603216499054,
     "user": {
      "displayName": "Christian Richardson Escobia",
      "photoUrl": "https://lh3.googleusercontent.com/a-/AOh14GjdPT7lC12Lnkl07FaCCF-69aiWOLTRNP49Dmh7=s64",
      "userId": "09982762860506727889"
     },
     "user_tz": -120
    },
    "id": "k3Aem2bkNU8b",
    "outputId": "a5a9bc80-8c73-44a5-ab52-320c164f56ea"
   },
   "outputs": [],
   "source": [
    "model = Wavelet_Simple()"
   ]
  },
  {
   "cell_type": "code",
   "execution_count": null,
   "metadata": {
    "colab": {
     "base_uri": "https://localhost:8080/",
     "height": 459
    },
    "executionInfo": {
     "elapsed": 131962,
     "status": "ok",
     "timestamp": 1603216499056,
     "user": {
      "displayName": "Christian Richardson Escobia",
      "photoUrl": "https://lh3.googleusercontent.com/a-/AOh14GjdPT7lC12Lnkl07FaCCF-69aiWOLTRNP49Dmh7=s64",
      "userId": "09982762860506727889"
     },
     "user_tz": -120
    },
    "id": "AGJxb2PkNX5y",
    "outputId": "a4b6bb30-4514-4129-a9cf-7304b3afb7f3"
   },
   "outputs": [],
   "source": [
    "model.summary()"
   ]
  },
  {
   "cell_type": "code",
   "execution_count": null,
   "metadata": {
    "executionInfo": {
     "elapsed": 130413,
     "status": "ok",
     "timestamp": 1603216499057,
     "user": {
      "displayName": "Christian Richardson Escobia",
      "photoUrl": "https://lh3.googleusercontent.com/a-/AOh14GjdPT7lC12Lnkl07FaCCF-69aiWOLTRNP49Dmh7=s64",
      "userId": "09982762860506727889"
     },
     "user_tz": -120
    },
    "id": "h4Iepjz4N7C0"
   },
   "outputs": [],
   "source": [
    "METRICS = [\n",
    "      tf.keras.metrics.BinaryAccuracy(name='accuracy'),\n",
    "      tf.keras.metrics.Precision(name='precision'),\n",
    "      tf.keras.metrics.Recall(name='recall'),\n",
    "      tf.keras.metrics.AUC(name='auc'),\n",
    "\n",
    "]"
   ]
  },
  {
   "cell_type": "markdown",
   "metadata": {},
   "source": [
    "# Optimizers, Callbacks, Reduce LR"
   ]
  },
  {
   "cell_type": "code",
   "execution_count": null,
   "metadata": {
    "executionInfo": {
     "elapsed": 129461,
     "status": "ok",
     "timestamp": 1603216499057,
     "user": {
      "displayName": "Christian Richardson Escobia",
      "photoUrl": "https://lh3.googleusercontent.com/a-/AOh14GjdPT7lC12Lnkl07FaCCF-69aiWOLTRNP49Dmh7=s64",
      "userId": "09982762860506727889"
     },
     "user_tz": -120
    },
    "id": "UWAxlrYENlFo"
   },
   "outputs": [],
   "source": [
    "from tensorflow.keras.optimizers import RMSprop,Adam\n",
    "model.compile(optimizer = RMSprop(learning_rate = 1e-3), loss = tf.keras.losses.binary_crossentropy,metrics = [METRICS])"
   ]
  },
  {
   "cell_type": "code",
   "execution_count": null,
   "metadata": {
    "colab": {
     "base_uri": "https://localhost:8080/",
     "height": 34
    },
    "executionInfo": {
     "elapsed": 128751,
     "status": "ok",
     "timestamp": 1603216499058,
     "user": {
      "displayName": "Christian Richardson Escobia",
      "photoUrl": "https://lh3.googleusercontent.com/a-/AOh14GjdPT7lC12Lnkl07FaCCF-69aiWOLTRNP49Dmh7=s64",
      "userId": "09982762860506727889"
     },
     "user_tz": -120
    },
    "id": "ZOw2VJeXYi0w",
    "outputId": "d8e5e62a-f42a-4ef9-ca21-54e621db7b62"
   },
   "outputs": [],
   "source": [
    "import os \n",
    "#Provides unique names for checkpoints and adjust the checkpointing frequency\n",
    "checkpoint_path = \"Wavelet_Bi_RMSprop/cp-{epoch:04d}.ckpt\"\n",
    "checkpoint_dir = os.path.dirname(checkpoint_path)\n",
    "\n",
    "#Create a call back that save the model's weights\n",
    "cp_callback = tf.keras.callbacks.ModelCheckpoint(filepath = checkpoint_path,\n",
    "                                                 save_weights_only = True,\n",
    "                                                 verbose = 1,\n",
    "                                                 period = 10)\n",
    "reduce_lr = tf.keras.callbacks.ReduceLROnPlateau(monitor='val_loss', factor=0.1, patience=4 ,verbose = 1, min_lr=1e-7)"
   ]
  },
  {
   "cell_type": "markdown",
   "metadata": {
    "id": "ut8_T7ejngcL"
   },
   "source": [
    "## Train / Valid"
   ]
  },
  {
   "cell_type": "code",
   "execution_count": null,
   "metadata": {
    "colab": {
     "base_uri": "https://localhost:8080/",
     "height": 1000
    },
    "executionInfo": {
     "elapsed": 14500054,
     "status": "ok",
     "timestamp": 1603230872194,
     "user": {
      "displayName": "Christian Richardson Escobia",
      "photoUrl": "https://lh3.googleusercontent.com/a-/AOh14GjdPT7lC12Lnkl07FaCCF-69aiWOLTRNP49Dmh7=s64",
      "userId": "09982762860506727889"
     },
     "user_tz": -120
    },
    "id": "isKXF6BFN96i",
    "outputId": "f2990e2c-6f51-4eb7-a2f4-28c793f92141"
   },
   "outputs": [],
   "source": [
    "model_train = model.fit(train_dataset,\n",
    "                        epochs = 50,\n",
    "                        validation_data = val_dataset,\n",
    "                        )#,callbacks = [lr_schedule]callbacks = [early_stop],callbacks = [cp_callback]"
   ]
  },
  {
   "cell_type": "code",
   "execution_count": null,
   "metadata": {
    "colab": {
     "base_uri": "https://localhost:8080/",
     "height": 154
    },
    "executionInfo": {
     "elapsed": 14546704,
     "status": "ok",
     "timestamp": 1603230921080,
     "user": {
      "displayName": "Christian Richardson Escobia",
      "photoUrl": "https://lh3.googleusercontent.com/a-/AOh14GjdPT7lC12Lnkl07FaCCF-69aiWOLTRNP49Dmh7=s64",
      "userId": "09982762860506727889"
     },
     "user_tz": -120
    },
    "id": "GMwGxlJJtOAC",
    "outputId": "6f275ffa-b3ae-4a5a-886f-0ef3a81a9121"
   },
   "outputs": [],
   "source": [
    "model.save(\"Wavelet_Binary\")\n",
    "model.save_weights(\"Wavelet_Binary_weights\")"
   ]
  },
  {
   "cell_type": "markdown",
   "metadata": {},
   "source": [
    "# Plot Loss vs Accuracy"
   ]
  },
  {
   "cell_type": "code",
   "execution_count": null,
   "metadata": {
    "colab": {
     "base_uri": "https://localhost:8080/",
     "height": 281
    },
    "executionInfo": {
     "elapsed": 14545618,
     "status": "ok",
     "timestamp": 1603230921083,
     "user": {
      "displayName": "Christian Richardson Escobia",
      "photoUrl": "https://lh3.googleusercontent.com/a-/AOh14GjdPT7lC12Lnkl07FaCCF-69aiWOLTRNP49Dmh7=s64",
      "userId": "09982762860506727889"
     },
     "user_tz": -120
    },
    "id": "L-B-vdrCOL20",
    "outputId": "68be173b-946c-4012-88cf-640d1b3f9597"
   },
   "outputs": [],
   "source": [
    "plt.figure(figsize =(15,4))\n",
    "plt.plot(model_train.epoch, model_train.history[\"loss\"], label=\"Train\")\n",
    "plt.plot(model_train.epoch, model_train.history[\"val_loss\"], label=\"Valid\")\n",
    "plt.xlabel(\"Epoch\")\n",
    "plt.ylabel(\"loss\")\n",
    "plt.legend()\n",
    "plt.show()"
   ]
  },
  {
   "cell_type": "code",
   "execution_count": null,
   "metadata": {
    "colab": {
     "base_uri": "https://localhost:8080/",
     "height": 279
    },
    "executionInfo": {
     "elapsed": 14544017,
     "status": "ok",
     "timestamp": 1603230921663,
     "user": {
      "displayName": "Christian Richardson Escobia",
      "photoUrl": "https://lh3.googleusercontent.com/a-/AOh14GjdPT7lC12Lnkl07FaCCF-69aiWOLTRNP49Dmh7=s64",
      "userId": "09982762860506727889"
     },
     "user_tz": -120
    },
    "id": "_ofyGDM7O9AA",
    "outputId": "0052b80f-c557-4cf4-9269-95093a6f1e63"
   },
   "outputs": [],
   "source": [
    "plt.figure(figsize =(15,4))\n",
    "plt.plot(model_train.epoch, model_train.history[\"accuracy\"], label=\"Train\")\n",
    "plt.plot(model_train.epoch, model_train.history[\"val_accuracy\"], label=\"Valid\")\n",
    "plt.xlabel(\"Epoch\")\n",
    "plt.ylabel(\"Accuracy\")\n",
    "plt.legend()\n",
    "plt.show()"
   ]
  },
  {
   "cell_type": "markdown",
   "metadata": {
    "id": "JucfHjuJnkk7"
   },
   "source": [
    "## Test"
   ]
  },
  {
   "cell_type": "code",
   "execution_count": null,
   "metadata": {
    "colab": {
     "base_uri": "https://localhost:8080/",
     "height": 119
    },
    "executionInfo": {
     "elapsed": 14628382,
     "status": "ok",
     "timestamp": 1603231007597,
     "user": {
      "displayName": "Christian Richardson Escobia",
      "photoUrl": "https://lh3.googleusercontent.com/a-/AOh14GjdPT7lC12Lnkl07FaCCF-69aiWOLTRNP49Dmh7=s64",
      "userId": "09982762860506727889"
     },
     "user_tz": -120
    },
    "id": "MHByN_38PAMM",
    "outputId": "8c9000ea-130a-444d-d414-4a7a49747134"
   },
   "outputs": [],
   "source": [
    "test_eval = model.predict(test_X, batch_size = 64)\n",
    "model.evaluate(test_X, test_y, batch_size= 64, verbose = 1)\n"
   ]
  },
  {
   "cell_type": "markdown",
   "metadata": {
    "id": "vdohtZivnmtj"
   },
   "source": [
    "## Classification Report"
   ]
  },
  {
   "cell_type": "code",
   "execution_count": null,
   "metadata": {
    "colab": {
     "base_uri": "https://localhost:8080/",
     "height": 170
    },
    "executionInfo": {
     "elapsed": 14627034,
     "status": "ok",
     "timestamp": 1603231007599,
     "user": {
      "displayName": "Christian Richardson Escobia",
      "photoUrl": "https://lh3.googleusercontent.com/a-/AOh14GjdPT7lC12Lnkl07FaCCF-69aiWOLTRNP49Dmh7=s64",
      "userId": "09982762860506727889"
     },
     "user_tz": -120
    },
    "id": "75art-sPPDLO",
    "outputId": "dd5c614a-5d3f-47fc-cce5-d7f43263b41c"
   },
   "outputs": [],
   "source": [
    "from sklearn.metrics import classification_report\n",
    "pred = np.round(test_eval, 0)\n",
    "pred[pred >= 0.5] = 1\n",
    "pred[pred < 0.5] = 0\n",
    "label = [\"NON_HUMAN\",\"HUMAN\"]\n",
    "target = [\"Class {}\".format(i) for i in range(5)]\n",
    "classification_metrics = classification_report(test_y ,pred, target_names = label)\n",
    "print(classification_metrics)\n",
    "\n"
   ]
  },
  {
   "cell_type": "code",
   "execution_count": null,
   "metadata": {
    "colab": {
     "base_uri": "https://localhost:8080/",
     "height": 861
    },
    "executionInfo": {
     "elapsed": 14628239,
     "status": "ok",
     "timestamp": 1603231011170,
     "user": {
      "displayName": "Christian Richardson Escobia",
      "photoUrl": "https://lh3.googleusercontent.com/a-/AOh14GjdPT7lC12Lnkl07FaCCF-69aiWOLTRNP49Dmh7=s64",
      "userId": "09982762860506727889"
     },
     "user_tz": -120
    },
    "id": "CwsH2lAGPGwI",
    "outputId": "2c0d921c-5fa7-4585-e084-e1a470b2b789"
   },
   "outputs": [],
   "source": [
    "from utils.confusion_matrix_pretty_print import plot_confusion_matrix_from_data\n",
    "\n",
    "columns = [\"NON_HUMAN\",\"HUMAN\"]\n",
    "# columns = []\n",
    "annot = True\n",
    "cmap = 'Oranges'\n",
    "fmt = '.2f'\n",
    "lw = 0.5\n",
    "cbar = False\n",
    "show_null_values = 2\n",
    "pred_val_axis = 'y'\n",
    "#size::\n",
    "fz = 12\n",
    "figsize = [9,9]\n",
    "if(len(test_y) > 10):\n",
    "    fz=9; figsize=[14,14]\n",
    "plot_confusion_matrix_from_data(test_y, pred, columns,annot, cmap, fmt, fz, lw, cbar, figsize, show_null_values, pred_val_axis)"
   ]
  }
 ],
 "metadata": {
  "accelerator": "GPU",
  "colab": {
   "collapsed_sections": [],
   "name": "Wavelet-Scattering-Transform.ipynb",
   "provenance": []
  },
  "kernelspec": {
   "display_name": "Python 3",
   "language": "python",
   "name": "python3"
  },
  "language_info": {
   "codemirror_mode": {
    "name": "ipython",
    "version": 3
   },
   "file_extension": ".py",
   "mimetype": "text/x-python",
   "name": "python",
   "nbconvert_exporter": "python",
   "pygments_lexer": "ipython3",
   "version": "3.6.11"
  }
 },
 "nbformat": 4,
 "nbformat_minor": 1
}
