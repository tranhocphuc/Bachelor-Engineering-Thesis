{
 "cells": [
  {
   "cell_type": "markdown",
   "metadata": {
    "id": "lVnpMRIgvcoB"
   },
   "source": [
    "# Intialization"
   ]
  },
  {
   "cell_type": "code",
   "execution_count": null,
   "metadata": {
    "colab": {
     "base_uri": "https://localhost:8080/",
     "height": 34
    },
    "executionInfo": {
     "elapsed": 23822,
     "status": "ok",
     "timestamp": 1603234571350,
     "user": {
      "displayName": "Christian Richardson Escobia",
      "photoUrl": "https://lh3.googleusercontent.com/a-/AOh14GjdPT7lC12Lnkl07FaCCF-69aiWOLTRNP49Dmh7=s64",
      "userId": "09982762860506727889"
     },
     "user_tz": -120
    },
    "id": "GvC9yI7SX6KM",
    "outputId": "5726b09c-3992-41a9-8c1b-0a1b3ac90d23"
   },
   "outputs": [],
   "source": [
    "from google.colab import drive\n",
    "drive.mount('/gdrive')"
   ]
  },
  {
   "cell_type": "code",
   "execution_count": null,
   "metadata": {
    "colab": {
     "base_uri": "https://localhost:8080/",
     "height": 34
    },
    "executionInfo": {
     "elapsed": 23075,
     "status": "ok",
     "timestamp": 1603234571351,
     "user": {
      "displayName": "Christian Richardson Escobia",
      "photoUrl": "https://lh3.googleusercontent.com/a-/AOh14GjdPT7lC12Lnkl07FaCCF-69aiWOLTRNP49Dmh7=s64",
      "userId": "09982762860506727889"
     },
     "user_tz": -120
    },
    "id": "K_afoC-HwBAq",
    "outputId": "1f5a877a-287a-4184-9786-234234f7650c"
   },
   "outputs": [],
   "source": [
    "%cd /gdrive/My Drive/phuc_code_file"
   ]
  },
  {
   "cell_type": "markdown",
   "metadata": {
    "id": "a67tlkusvgw6"
   },
   "source": [
    "# Import Libraries"
   ]
  },
  {
   "cell_type": "code",
   "execution_count": null,
   "metadata": {
    "executionInfo": {
     "elapsed": 25254,
     "status": "ok",
     "timestamp": 1603234575084,
     "user": {
      "displayName": "Christian Richardson Escobia",
      "photoUrl": "https://lh3.googleusercontent.com/a-/AOh14GjdPT7lC12Lnkl07FaCCF-69aiWOLTRNP49Dmh7=s64",
      "userId": "09982762860506727889"
     },
     "user_tz": -120
    },
    "id": "WnweEselvU78"
   },
   "outputs": [],
   "source": [
    "import tensorflow as tf\n",
    "from sklearn.model_selection import train_test_split\n",
    "import numpy as np \n",
    "import pandas as pd \n",
    "from google.colab import widgets\n",
    "import matplotlib.pyplot as plt\n",
    "from sklearn import preprocessing \n",
    "from sklearn.metrics import classification_report\n",
    "from sklearn.metrics import accuracy_score, confusion_matrix\n",
    "from sklearn.metrics import precision_score, recall_score, f1_score\n",
    "from utils import file_helper, feature_extraction"
   ]
  },
  {
   "cell_type": "markdown",
   "metadata": {
    "id": "3dtERGU7xji-"
   },
   "source": [
    "# Data Pipeline"
   ]
  },
  {
   "cell_type": "code",
   "execution_count": null,
   "metadata": {
    "executionInfo": {
     "elapsed": 125071,
     "status": "ok",
     "timestamp": 1603234690825,
     "user": {
      "displayName": "Christian Richardson Escobia",
      "photoUrl": "https://lh3.googleusercontent.com/a-/AOh14GjdPT7lC12Lnkl07FaCCF-69aiWOLTRNP49Dmh7=s64",
      "userId": "09982762860506727889"
     },
     "user_tz": -120
    },
    "id": "-KvpJR4BxmrZ"
   },
   "outputs": [],
   "source": [
    "train_X = np.load('Dataset/split_data/Binary Split/X_train.npy')\n",
    "train_y = np.load('Dataset/split_data/Binary Split/y_train.npy')\n",
    "val_X = np.load('Dataset/split_data/Binary Split/X_val.npy')\n",
    "val_y = np.load('Dataset/split_data/Binary Split/y_val.npy')\n",
    "test_X = np.load('Dataset/split_data/Binary Split/X_test.npy')\n",
    "test_y = np.load('Dataset/split_data/Binary Split/y_test.npy')\n",
    "\n",
    "#Note:\n",
    "#class       label_encoded\n",
    "# Human:          1\n",
    "# Non_human:      0 "
   ]
  },
  {
   "cell_type": "code",
   "execution_count": null,
   "metadata": {
    "executionInfo": {
     "elapsed": 130759,
     "status": "ok",
     "timestamp": 1603234697353,
     "user": {
      "displayName": "Christian Richardson Escobia",
      "photoUrl": "https://lh3.googleusercontent.com/a-/AOh14GjdPT7lC12Lnkl07FaCCF-69aiWOLTRNP49Dmh7=s64",
      "userId": "09982762860506727889"
     },
     "user_tz": -120
    },
    "id": "WwtIbLUUxqYO"
   },
   "outputs": [],
   "source": [
    "BATCH_SIZE = 64\n",
    "SHUFFLE_BUFFER_SIZE = 100\n",
    "\n",
    "train_dataset = tf.data.Dataset.from_tensor_slices((train_X, train_y)).shuffle(SHUFFLE_BUFFER_SIZE).batch(BATCH_SIZE)\n",
    "val_dataset = tf.data.Dataset.from_tensor_slices((val_X, val_y)).shuffle(SHUFFLE_BUFFER_SIZE).batch(BATCH_SIZE)\n",
    "test_dataset = tf.data.Dataset.from_tensor_slices((test_X, test_y)).batch(BATCH_SIZE)\n"
   ]
  },
  {
   "cell_type": "markdown",
   "metadata": {
    "id": "ZlF-w6XrxDT2"
   },
   "source": [
    "# Build ResNet"
   ]
  },
  {
   "cell_type": "code",
   "execution_count": null,
   "metadata": {
    "executionInfo": {
     "elapsed": 100956,
     "status": "ok",
     "timestamp": 1603234697354,
     "user": {
      "displayName": "Christian Richardson Escobia",
      "photoUrl": "https://lh3.googleusercontent.com/a-/AOh14GjdPT7lC12Lnkl07FaCCF-69aiWOLTRNP49Dmh7=s64",
      "userId": "09982762860506727889"
     },
     "user_tz": -120
    },
    "id": "N4stiaQrxAak"
   },
   "outputs": [],
   "source": [
    "METRICS = [\n",
    "      tf.keras.metrics.BinaryAccuracy(name='accuracy'),\n",
    "      tf.keras.metrics.Precision(name='precision'),\n",
    "      tf.keras.metrics.Recall(name='recall'),\n",
    "      tf.keras.metrics.AUC(name='auc'),\n",
    "\n",
    "]"
   ]
  },
  {
   "cell_type": "code",
   "execution_count": null,
   "metadata": {
    "executionInfo": {
     "elapsed": 100134,
     "status": "ok",
     "timestamp": 1603234697355,
     "user": {
      "displayName": "Christian Richardson Escobia",
      "photoUrl": "https://lh3.googleusercontent.com/a-/AOh14GjdPT7lC12Lnkl07FaCCF-69aiWOLTRNP49Dmh7=s64",
      "userId": "09982762860506727889"
     },
     "user_tz": -120
    },
    "id": "USb6XXlexEnv"
   },
   "outputs": [],
   "source": [
    "import tensorflow.keras as keras\n",
    "tf.keras.backend.clear_session()\n",
    "def resnet(nb_classes): \n",
    "    n_feature_maps = 64\n",
    "    input_shape = (1,5704)\n",
    "    input_layer = keras.layers.Input(input_shape)\n",
    "\n",
    "    #BLOCK 1 \n",
    "    conv_x = keras.layers.Conv1D(filters = n_feature_maps, kernel_size = 7, padding = 'same')(input_layer)\n",
    "    conv_x = keras.layers.BatchNormalization()(conv_x)\n",
    "    conv_x = keras.layers.Activation('relu')(conv_x)\n",
    "\n",
    "    conv_y = keras.layers.Conv1D(filters = n_feature_maps, kernel_size = 5, padding = 'same')(conv_x)\n",
    "    conv_y = keras.layers.BatchNormalization()(conv_y)\n",
    "    conv_y = keras.layers.Activation('relu')(conv_y)\n",
    "\n",
    "    conv_z = keras.layers.Conv1D(filters = n_feature_maps, kernel_size = 3, padding = 'same')(conv_y)\n",
    "    conv_z = keras.layers.BatchNormalization()(conv_z)\n",
    "\n",
    "    #expand channels for the sum\n",
    "    shortcut_y = keras.layers.Conv1D(filters = n_feature_maps, kernel_size = 1, padding='same')(input_layer)\n",
    "    shortcut_y = keras.layers.BatchNormalization()(shortcut_y)\n",
    "\n",
    "    output_block_1 = keras.layers.add([shortcut_y, conv_z])\n",
    "    output_block_1 = keras.layers.Activation('relu')(output_block_1)\n",
    "\n",
    "    #BLOCK 2\n",
    "    conv_x = keras.layers.Conv1D(filters = n_feature_maps * 2, kernel_size = 7, padding='same')(output_block_1)\n",
    "    conv_x = keras.layers.BatchNormalization()(conv_x)\n",
    "    conv_x = keras.layers.Activation('relu')(conv_x)\n",
    "\n",
    "    conv_y = keras.layers.Conv1D(filters = n_feature_maps * 2, kernel_size = 5, padding = 'same')(conv_x)\n",
    "    conv_y = keras.layers.BatchNormalization()(conv_y)\n",
    "    conv_y = keras.layers.Activation('relu')(conv_y)\n",
    "\n",
    "    conv_z = keras.layers.Conv1D(filters = n_feature_maps * 2, kernel_size = 3, padding='same')(conv_y)\n",
    "    conv_z = keras.layers.BatchNormalization()(conv_z)\n",
    "\n",
    "    #Expand Channels for sum\n",
    "    shortcut_y = keras.layers.Conv1D(filters = n_feature_maps *2, kernel_size = 1, padding = 'same')(output_block_1)\n",
    "    shortcut_y = keras.layers.BatchNormalization()(shortcut_y)\n",
    "\n",
    "    output_block_2 = keras.layers.add([shortcut_y, conv_z])\n",
    "    output_block_2 = keras.layers.Activation('relu')(output_block_2)\n",
    "\n",
    "    #BLOCK 3\n",
    "    conv_x = keras.layers.Conv1D(filters = n_feature_maps * 2, kernel_size = 7, padding = 'same')(output_block_2)\n",
    "    conv_x = keras.layers.BatchNormalization()(conv_x)\n",
    "    conv_x = keras.layers.Activation('relu')(conv_x)\n",
    "\n",
    "    conv_y = keras.layers.Conv1D(filters = n_feature_maps * 2, kernel_size = 5, padding = 'same')(conv_x)\n",
    "    conv_y = keras.layers.BatchNormalization()(conv_y)\n",
    "    conv_y = keras.layers.Activation('relu')(conv_y)\n",
    "\n",
    "    conv_z = keras.layers.Conv1D(filters = n_feature_maps * 2, kernel_size = 3, padding = 'same')(conv_y)\n",
    "    conv_z = keras.layers.BatchNormalization()(conv_z)\n",
    "\n",
    "    #No need to expand channels anmr, cause now they are equal \n",
    "    shortcut_y = keras.layers.BatchNormalization()(output_block_2)\n",
    "\n",
    "    output_block_3 = keras.layers.add([shortcut_y, conv_z])\n",
    "    output_block_3 = keras.layers.Activation('relu')(output_block_3)\n",
    "\n",
    "    #FINAL \n",
    "\n",
    "    gap_layer = keras.layers.GlobalAveragePooling1D()(output_block_3)\n",
    "\n",
    "    output_layer = keras.layers.Dense(nb_classes, activation='sigmoid')(gap_layer)\n",
    "\n",
    "    return keras.models.Model(inputs = input_layer, outputs = output_layer)"
   ]
  },
  {
   "cell_type": "code",
   "execution_count": null,
   "metadata": {
    "colab": {
     "base_uri": "https://localhost:8080/",
     "height": 1000
    },
    "executionInfo": {
     "elapsed": 98071,
     "status": "ok",
     "timestamp": 1603234697791,
     "user": {
      "displayName": "Christian Richardson Escobia",
      "photoUrl": "https://lh3.googleusercontent.com/a-/AOh14GjdPT7lC12Lnkl07FaCCF-69aiWOLTRNP49Dmh7=s64",
      "userId": "09982762860506727889"
     },
     "user_tz": -120
    },
    "id": "HbDFpCpZ3W8f",
    "outputId": "243a1ef7-5b26-4176-bef0-c99bd5557503"
   },
   "outputs": [],
   "source": [
    "model = resnet(1)\n",
    "model.summary()"
   ]
  },
  {
   "cell_type": "markdown",
   "metadata": {
    "id": "-oxpQaeN4Sc6"
   },
   "source": [
    "# Optimizer, Callbacks, Reduce learning rates, early stopping"
   ]
  },
  {
   "cell_type": "code",
   "execution_count": null,
   "metadata": {
    "executionInfo": {
     "elapsed": 95113,
     "status": "ok",
     "timestamp": 1603234697792,
     "user": {
      "displayName": "Christian Richardson Escobia",
      "photoUrl": "https://lh3.googleusercontent.com/a-/AOh14GjdPT7lC12Lnkl07FaCCF-69aiWOLTRNP49Dmh7=s64",
      "userId": "09982762860506727889"
     },
     "user_tz": -120
    },
    "id": "l4UIiWvTDpRr"
   },
   "outputs": [],
   "source": [
    "from tensorflow.keras.optimizers import RMSprop,Adam\n",
    "from tensorflow.keras.callbacks import EarlyStopping\n",
    "early_stop = EarlyStopping(patience = 5, verbose = 1)\n",
    "# RMSprop(learning_rate= 1e-5)\n",
    "model.compile(optimizer = RMSprop(learning_rate = 1e-2), loss = tf.keras.losses.binary_crossentropy, metrics =METRICS)"
   ]
  },
  {
   "cell_type": "code",
   "execution_count": null,
   "metadata": {
    "colab": {
     "base_uri": "https://localhost:8080/",
     "height": 34
    },
    "executionInfo": {
     "elapsed": 93902,
     "status": "ok",
     "timestamp": 1603234697792,
     "user": {
      "displayName": "Christian Richardson Escobia",
      "photoUrl": "https://lh3.googleusercontent.com/a-/AOh14GjdPT7lC12Lnkl07FaCCF-69aiWOLTRNP49Dmh7=s64",
      "userId": "09982762860506727889"
     },
     "user_tz": -120
    },
    "id": "ffpsznjaEhse",
    "outputId": "d7be6144-d20b-48a8-d127-65c308df65d6"
   },
   "outputs": [],
   "source": [
    "import os \n",
    "#Provides unique names for checkpoints and adjust the checkpointing frequency\n",
    "checkpoint_path = \"ResNet_Binary/cp-{epoch:04d}.ckpt\"\n",
    "checkpoint_dir = os.path.dirname(checkpoint_path)\n",
    "\n",
    "#Create a call back that save the model's weights\n",
    "cp_callback = tf.keras.callbacks.ModelCheckpoint(filepath = checkpoint_path,\n",
    "                                                 save_weights_only = True,\n",
    "                                                 save_best_only=True,\n",
    "                                                 verbose = 1,\n",
    "                                                 period = 10)\n",
    "reduce_lr = keras.callbacks.ReduceLROnPlateau(monitor='val_loss', factor=0.1, patience=15, verbose= 1, min_lr=1e-9)\n",
    "\n"
   ]
  },
  {
   "cell_type": "markdown",
   "metadata": {},
   "source": [
    "# Train Model"
   ]
  },
  {
   "cell_type": "code",
   "execution_count": null,
   "metadata": {
    "colab": {
     "base_uri": "https://localhost:8080/",
     "height": 1000
    },
    "executionInfo": {
     "elapsed": 3500865,
     "status": "ok",
     "timestamp": 1603238106524,
     "user": {
      "displayName": "Christian Richardson Escobia",
      "photoUrl": "https://lh3.googleusercontent.com/a-/AOh14GjdPT7lC12Lnkl07FaCCF-69aiWOLTRNP49Dmh7=s64",
      "userId": "09982762860506727889"
     },
     "user_tz": -120
    },
    "id": "MMADT4mdG-Zh",
    "outputId": "6483566e-1df3-4b10-a569-76ec5cd66692"
   },
   "outputs": [],
   "source": [
    "model_train = model.fit(train_dataset,\n",
    "                        epochs = 100,\n",
    "                        validation_data = val_dataset,\n",
    "                        batch_size=128,\n",
    "                        callbacks= [cp_callback, reduce_lr]\n",
    "                        )#,callbacks = [lr_schedule]callbacks = [early_stop],callbacks = [cp_callback]"
   ]
  },
  {
   "cell_type": "markdown",
   "metadata": {},
   "source": [
    "# Plot Loss vs accuracy"
   ]
  },
  {
   "cell_type": "code",
   "execution_count": null,
   "metadata": {
    "colab": {
     "base_uri": "https://localhost:8080/",
     "height": 279
    },
    "executionInfo": {
     "elapsed": 3499068,
     "status": "ok",
     "timestamp": 1603238107152,
     "user": {
      "displayName": "Christian Richardson Escobia",
      "photoUrl": "https://lh3.googleusercontent.com/a-/AOh14GjdPT7lC12Lnkl07FaCCF-69aiWOLTRNP49Dmh7=s64",
      "userId": "09982762860506727889"
     },
     "user_tz": -120
    },
    "id": "IL54j1oxHDdQ",
    "outputId": "ccbc33ed-90d4-4ffc-f737-08c4d5c222c7"
   },
   "outputs": [],
   "source": [
    "plt.figure(figsize =(15,4))\n",
    "plt.plot(model_train.epoch, model_train.history[\"loss\"], label=\"Train\")\n",
    "plt.plot(model_train.epoch, model_train.history[\"val_loss\"], label=\"Valid\")\n",
    "plt.xlabel(\"Epoch\")\n",
    "plt.ylabel(\"loss\")\n",
    "plt.legend()\n",
    "plt.show()"
   ]
  },
  {
   "cell_type": "code",
   "execution_count": null,
   "metadata": {
    "colab": {
     "base_uri": "https://localhost:8080/",
     "height": 279
    },
    "executionInfo": {
     "elapsed": 1212,
     "status": "ok",
     "timestamp": 1603238108378,
     "user": {
      "displayName": "Christian Richardson Escobia",
      "photoUrl": "https://lh3.googleusercontent.com/a-/AOh14GjdPT7lC12Lnkl07FaCCF-69aiWOLTRNP49Dmh7=s64",
      "userId": "09982762860506727889"
     },
     "user_tz": -120
    },
    "id": "ac-5HWetQzvC",
    "outputId": "3b6a6831-cb61-483a-c921-b4b3c2bf2597"
   },
   "outputs": [],
   "source": [
    "plt.figure(figsize =(15,4))\n",
    "plt.plot(model_train.epoch, model_train.history[\"accuracy\"], label=\"Train\")\n",
    "plt.plot(model_train.epoch, model_train.history[\"val_accuracy\"], label=\"Valid\")\n",
    "plt.xlabel(\"Epoch\")\n",
    "plt.ylabel(\"Accuracy\")\n",
    "plt.legend()\n",
    "plt.show()"
   ]
  },
  {
   "cell_type": "code",
   "execution_count": null,
   "metadata": {
    "colab": {
     "base_uri": "https://localhost:8080/",
     "height": 119
    },
    "executionInfo": {
     "elapsed": 4400,
     "status": "ok",
     "timestamp": 1603238111582,
     "user": {
      "displayName": "Christian Richardson Escobia",
      "photoUrl": "https://lh3.googleusercontent.com/a-/AOh14GjdPT7lC12Lnkl07FaCCF-69aiWOLTRNP49Dmh7=s64",
      "userId": "09982762860506727889"
     },
     "user_tz": -120
    },
    "id": "pVVF4edXQ1Pi",
    "outputId": "330aa8f9-a32e-4484-b3e8-477885b3bbc1"
   },
   "outputs": [],
   "source": [
    "test_eval = model.predict(test_X, batch_size = 64)\n",
    "model.evaluate(test_dataset, batch_size= 64, verbose = 1)"
   ]
  },
  {
   "cell_type": "markdown",
   "metadata": {
    "id": "TzdEKFDP0luC"
   },
   "source": [
    "# Test Model"
   ]
  },
  {
   "cell_type": "code",
   "execution_count": null,
   "metadata": {
    "colab": {
     "base_uri": "https://localhost:8080/",
     "height": 170
    },
    "executionInfo": {
     "elapsed": 4391,
     "status": "ok",
     "timestamp": 1603238111584,
     "user": {
      "displayName": "Christian Richardson Escobia",
      "photoUrl": "https://lh3.googleusercontent.com/a-/AOh14GjdPT7lC12Lnkl07FaCCF-69aiWOLTRNP49Dmh7=s64",
      "userId": "09982762860506727889"
     },
     "user_tz": -120
    },
    "id": "V-ssglIgQ3Kj",
    "outputId": "75af6bfd-f9a4-4455-d7af-fec791d35a3a"
   },
   "outputs": [],
   "source": [
    "from sklearn.metrics import classification_report\n",
    "pred = np.round(test_eval, 0)\n",
    "pred[pred >= 0.5] = 1\n",
    "pred[pred < 0.5] = 0\n",
    "label = [\"NON_HUMAN\",\"HUMAN\"]\n",
    "target = [\"Class {}\".format(i) for i in range(5)]\n",
    "classification_metrics = classification_report(test_y ,pred, target_names = label)\n",
    "print(classification_metrics)"
   ]
  },
  {
   "cell_type": "code",
   "execution_count": null,
   "metadata": {
    "executionInfo": {
     "elapsed": 6480,
     "status": "ok",
     "timestamp": 1603238113679,
     "user": {
      "displayName": "Christian Richardson Escobia",
      "photoUrl": "https://lh3.googleusercontent.com/a-/AOh14GjdPT7lC12Lnkl07FaCCF-69aiWOLTRNP49Dmh7=s64",
      "userId": "09982762860506727889"
     },
     "user_tz": -120
    },
    "id": "BcsHAeSdJ1t1"
   },
   "outputs": [],
   "source": [
    "model.save(\"ResNet_Binary.h5\")"
   ]
  },
  {
   "cell_type": "code",
   "execution_count": null,
   "metadata": {
    "colab": {
     "base_uri": "https://localhost:8080/",
     "height": 861
    },
    "executionInfo": {
     "elapsed": 8006,
     "status": "ok",
     "timestamp": 1603238115216,
     "user": {
      "displayName": "Christian Richardson Escobia",
      "photoUrl": "https://lh3.googleusercontent.com/a-/AOh14GjdPT7lC12Lnkl07FaCCF-69aiWOLTRNP49Dmh7=s64",
      "userId": "09982762860506727889"
     },
     "user_tz": -120
    },
    "id": "QaDRQ2lgQ5Jp",
    "outputId": "11d7d89a-8836-4101-f04f-1a4f36c5314f"
   },
   "outputs": [],
   "source": [
    "from utils import confusion_matrix_pretty_print\n",
    "from utils.confusion_matrix_pretty_print import plot_confusion_matrix_from_data\n",
    "\n",
    "columns = [\"NON_HUMAN\",\"HUMAN\"]\n",
    "annot = True\n",
    "cmap = 'Blues'\n",
    "fmt = '.2f'\n",
    "lw = 0.5\n",
    "cbar = False\n",
    "show_null_values = 2\n",
    "pred_val_axis = 'y'\n",
    "#size::\n",
    "fz = 12\n",
    "figsize = [9,9]\n",
    "if(len(test_y) > 10):\n",
    "  fz=9; figsize=[14,14]\n",
    "plot_confusion_matrix_from_data(test_y, pred, columns,\n",
    "      annot, cmap, fmt, fz, lw, cbar, figsize, show_null_values, pred_val_axis)"
   ]
  }
 ],
 "metadata": {
  "accelerator": "GPU",
  "colab": {
   "collapsed_sections": [
    "sCNm819dwI5n"
   ],
   "name": "ResNet.ipynb",
   "provenance": [],
   "toc_visible": true
  },
  "kernelspec": {
   "display_name": "Python 3",
   "language": "python",
   "name": "python3"
  },
  "language_info": {
   "codemirror_mode": {
    "name": "ipython",
    "version": 3
   },
   "file_extension": ".py",
   "mimetype": "text/x-python",
   "name": "python",
   "nbconvert_exporter": "python",
   "pygments_lexer": "ipython3",
   "version": "3.6.11"
  }
 },
 "nbformat": 4,
 "nbformat_minor": 1
}
